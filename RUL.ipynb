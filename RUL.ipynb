{
 "cells": [
  {
   "cell_type": "code",
   "execution_count": 1,
   "id": "34c34ea9",
   "metadata": {},
   "outputs": [],
   "source": [
    "import pandas as pd\n",
    "import numpy as np"
   ]
  },
  {
   "cell_type": "code",
   "execution_count": 2,
   "id": "6019491f",
   "metadata": {},
   "outputs": [],
   "source": [
    "dir_path = './CMaps/'\n",
    "index_names = ['unit_nr', 'time_cycles']\n",
    "setting_names = ['setting_1', 'setting_2', 'setting_3']\n",
    "sensor_names = ['T2', 'T24', 'T30', 'T50', 'P2', 'P15', 'P30', 'Nf', 'Nc', 'epr', 'Ps30', 'phi', 'NRf', 'NRc', 'BPR', 'farB', 'htBleed', 'Nf_dmd', 'PCNfr_dmd', 'W31', 'W32'] \n",
    "col_names = index_names + setting_names + sensor_names"
   ]
  },
  {
   "cell_type": "code",
   "execution_count": 3,
   "id": "8c684de7",
   "metadata": {},
   "outputs": [],
   "source": [
    "def open_df(number):\n",
    "    train = pd.read_csv((dir_path+'train_FD00' + str(number) + '.txt'), sep='\\s+', header=None, names=col_names)\n",
    "    test = pd.read_csv((dir_path+'test_FD00' + str(number) + '.txt'), sep='\\s+', header=None, names=col_names)\n",
    "    y_test = pd.read_csv((dir_path+'RUL_FD00' + str(number) + '.txt'), sep='\\s+', header=None, names=['RUL'])\n",
    "    return train, test, y_test"
   ]
  },
  {
   "cell_type": "code",
   "execution_count": 4,
   "id": "256542d1",
   "metadata": {},
   "outputs": [],
   "source": [
    "train, test, y_test = open_df(1)"
   ]
  },
  {
   "cell_type": "code",
   "execution_count": 5,
   "id": "5a6b43d1",
   "metadata": {},
   "outputs": [
    {
     "data": {
      "text/html": [
       "<div>\n",
       "<style scoped>\n",
       "    .dataframe tbody tr th:only-of-type {\n",
       "        vertical-align: middle;\n",
       "    }\n",
       "\n",
       "    .dataframe tbody tr th {\n",
       "        vertical-align: top;\n",
       "    }\n",
       "\n",
       "    .dataframe thead th {\n",
       "        text-align: right;\n",
       "    }\n",
       "</style>\n",
       "<table border=\"1\" class=\"dataframe\">\n",
       "  <thead>\n",
       "    <tr style=\"text-align: right;\">\n",
       "      <th></th>\n",
       "      <th>unit_nr</th>\n",
       "      <th>time_cycles</th>\n",
       "      <th>setting_1</th>\n",
       "      <th>setting_2</th>\n",
       "      <th>setting_3</th>\n",
       "      <th>T2</th>\n",
       "      <th>T24</th>\n",
       "      <th>T30</th>\n",
       "      <th>T50</th>\n",
       "      <th>P2</th>\n",
       "      <th>...</th>\n",
       "      <th>phi</th>\n",
       "      <th>NRf</th>\n",
       "      <th>NRc</th>\n",
       "      <th>BPR</th>\n",
       "      <th>farB</th>\n",
       "      <th>htBleed</th>\n",
       "      <th>Nf_dmd</th>\n",
       "      <th>PCNfr_dmd</th>\n",
       "      <th>W31</th>\n",
       "      <th>W32</th>\n",
       "    </tr>\n",
       "  </thead>\n",
       "  <tbody>\n",
       "    <tr>\n",
       "      <th>0</th>\n",
       "      <td>1</td>\n",
       "      <td>1</td>\n",
       "      <td>-0.0007</td>\n",
       "      <td>-0.0004</td>\n",
       "      <td>100.0</td>\n",
       "      <td>518.67</td>\n",
       "      <td>641.82</td>\n",
       "      <td>1589.70</td>\n",
       "      <td>1400.60</td>\n",
       "      <td>14.62</td>\n",
       "      <td>...</td>\n",
       "      <td>521.66</td>\n",
       "      <td>2388.02</td>\n",
       "      <td>8138.62</td>\n",
       "      <td>8.4195</td>\n",
       "      <td>0.03</td>\n",
       "      <td>392</td>\n",
       "      <td>2388</td>\n",
       "      <td>100.0</td>\n",
       "      <td>39.06</td>\n",
       "      <td>23.4190</td>\n",
       "    </tr>\n",
       "    <tr>\n",
       "      <th>1</th>\n",
       "      <td>1</td>\n",
       "      <td>2</td>\n",
       "      <td>0.0019</td>\n",
       "      <td>-0.0003</td>\n",
       "      <td>100.0</td>\n",
       "      <td>518.67</td>\n",
       "      <td>642.15</td>\n",
       "      <td>1591.82</td>\n",
       "      <td>1403.14</td>\n",
       "      <td>14.62</td>\n",
       "      <td>...</td>\n",
       "      <td>522.28</td>\n",
       "      <td>2388.07</td>\n",
       "      <td>8131.49</td>\n",
       "      <td>8.4318</td>\n",
       "      <td>0.03</td>\n",
       "      <td>392</td>\n",
       "      <td>2388</td>\n",
       "      <td>100.0</td>\n",
       "      <td>39.00</td>\n",
       "      <td>23.4236</td>\n",
       "    </tr>\n",
       "    <tr>\n",
       "      <th>2</th>\n",
       "      <td>1</td>\n",
       "      <td>3</td>\n",
       "      <td>-0.0043</td>\n",
       "      <td>0.0003</td>\n",
       "      <td>100.0</td>\n",
       "      <td>518.67</td>\n",
       "      <td>642.35</td>\n",
       "      <td>1587.99</td>\n",
       "      <td>1404.20</td>\n",
       "      <td>14.62</td>\n",
       "      <td>...</td>\n",
       "      <td>522.42</td>\n",
       "      <td>2388.03</td>\n",
       "      <td>8133.23</td>\n",
       "      <td>8.4178</td>\n",
       "      <td>0.03</td>\n",
       "      <td>390</td>\n",
       "      <td>2388</td>\n",
       "      <td>100.0</td>\n",
       "      <td>38.95</td>\n",
       "      <td>23.3442</td>\n",
       "    </tr>\n",
       "    <tr>\n",
       "      <th>3</th>\n",
       "      <td>1</td>\n",
       "      <td>4</td>\n",
       "      <td>0.0007</td>\n",
       "      <td>0.0000</td>\n",
       "      <td>100.0</td>\n",
       "      <td>518.67</td>\n",
       "      <td>642.35</td>\n",
       "      <td>1582.79</td>\n",
       "      <td>1401.87</td>\n",
       "      <td>14.62</td>\n",
       "      <td>...</td>\n",
       "      <td>522.86</td>\n",
       "      <td>2388.08</td>\n",
       "      <td>8133.83</td>\n",
       "      <td>8.3682</td>\n",
       "      <td>0.03</td>\n",
       "      <td>392</td>\n",
       "      <td>2388</td>\n",
       "      <td>100.0</td>\n",
       "      <td>38.88</td>\n",
       "      <td>23.3739</td>\n",
       "    </tr>\n",
       "    <tr>\n",
       "      <th>4</th>\n",
       "      <td>1</td>\n",
       "      <td>5</td>\n",
       "      <td>-0.0019</td>\n",
       "      <td>-0.0002</td>\n",
       "      <td>100.0</td>\n",
       "      <td>518.67</td>\n",
       "      <td>642.37</td>\n",
       "      <td>1582.85</td>\n",
       "      <td>1406.22</td>\n",
       "      <td>14.62</td>\n",
       "      <td>...</td>\n",
       "      <td>522.19</td>\n",
       "      <td>2388.04</td>\n",
       "      <td>8133.80</td>\n",
       "      <td>8.4294</td>\n",
       "      <td>0.03</td>\n",
       "      <td>393</td>\n",
       "      <td>2388</td>\n",
       "      <td>100.0</td>\n",
       "      <td>38.90</td>\n",
       "      <td>23.4044</td>\n",
       "    </tr>\n",
       "  </tbody>\n",
       "</table>\n",
       "<p>5 rows × 26 columns</p>\n",
       "</div>"
      ],
      "text/plain": [
       "   unit_nr  time_cycles  setting_1  setting_2  setting_3      T2     T24  \\\n",
       "0        1            1    -0.0007    -0.0004      100.0  518.67  641.82   \n",
       "1        1            2     0.0019    -0.0003      100.0  518.67  642.15   \n",
       "2        1            3    -0.0043     0.0003      100.0  518.67  642.35   \n",
       "3        1            4     0.0007     0.0000      100.0  518.67  642.35   \n",
       "4        1            5    -0.0019    -0.0002      100.0  518.67  642.37   \n",
       "\n",
       "       T30      T50     P2  ...     phi      NRf      NRc     BPR  farB  \\\n",
       "0  1589.70  1400.60  14.62  ...  521.66  2388.02  8138.62  8.4195  0.03   \n",
       "1  1591.82  1403.14  14.62  ...  522.28  2388.07  8131.49  8.4318  0.03   \n",
       "2  1587.99  1404.20  14.62  ...  522.42  2388.03  8133.23  8.4178  0.03   \n",
       "3  1582.79  1401.87  14.62  ...  522.86  2388.08  8133.83  8.3682  0.03   \n",
       "4  1582.85  1406.22  14.62  ...  522.19  2388.04  8133.80  8.4294  0.03   \n",
       "\n",
       "   htBleed  Nf_dmd  PCNfr_dmd    W31      W32  \n",
       "0      392    2388      100.0  39.06  23.4190  \n",
       "1      392    2388      100.0  39.00  23.4236  \n",
       "2      390    2388      100.0  38.95  23.3442  \n",
       "3      392    2388      100.0  38.88  23.3739  \n",
       "4      393    2388      100.0  38.90  23.4044  \n",
       "\n",
       "[5 rows x 26 columns]"
      ]
     },
     "execution_count": 5,
     "metadata": {},
     "output_type": "execute_result"
    }
   ],
   "source": [
    "train.head()"
   ]
  },
  {
   "cell_type": "code",
   "execution_count": 6,
   "id": "7d0a8478",
   "metadata": {},
   "outputs": [
    {
     "data": {
      "text/html": [
       "<div>\n",
       "<style scoped>\n",
       "    .dataframe tbody tr th:only-of-type {\n",
       "        vertical-align: middle;\n",
       "    }\n",
       "\n",
       "    .dataframe tbody tr th {\n",
       "        vertical-align: top;\n",
       "    }\n",
       "\n",
       "    .dataframe thead th {\n",
       "        text-align: right;\n",
       "    }\n",
       "</style>\n",
       "<table border=\"1\" class=\"dataframe\">\n",
       "  <thead>\n",
       "    <tr style=\"text-align: right;\">\n",
       "      <th></th>\n",
       "      <th>unit_nr</th>\n",
       "      <th>time_cycles</th>\n",
       "      <th>setting_1</th>\n",
       "      <th>setting_2</th>\n",
       "      <th>setting_3</th>\n",
       "      <th>T2</th>\n",
       "      <th>T24</th>\n",
       "      <th>T30</th>\n",
       "      <th>T50</th>\n",
       "      <th>P2</th>\n",
       "      <th>...</th>\n",
       "      <th>phi</th>\n",
       "      <th>NRf</th>\n",
       "      <th>NRc</th>\n",
       "      <th>BPR</th>\n",
       "      <th>farB</th>\n",
       "      <th>htBleed</th>\n",
       "      <th>Nf_dmd</th>\n",
       "      <th>PCNfr_dmd</th>\n",
       "      <th>W31</th>\n",
       "      <th>W32</th>\n",
       "    </tr>\n",
       "  </thead>\n",
       "  <tbody>\n",
       "    <tr>\n",
       "      <th>0</th>\n",
       "      <td>1</td>\n",
       "      <td>1</td>\n",
       "      <td>0.0023</td>\n",
       "      <td>0.0003</td>\n",
       "      <td>100.0</td>\n",
       "      <td>518.67</td>\n",
       "      <td>643.02</td>\n",
       "      <td>1585.29</td>\n",
       "      <td>1398.21</td>\n",
       "      <td>14.62</td>\n",
       "      <td>...</td>\n",
       "      <td>521.72</td>\n",
       "      <td>2388.03</td>\n",
       "      <td>8125.55</td>\n",
       "      <td>8.4052</td>\n",
       "      <td>0.03</td>\n",
       "      <td>392</td>\n",
       "      <td>2388</td>\n",
       "      <td>100.0</td>\n",
       "      <td>38.86</td>\n",
       "      <td>23.3735</td>\n",
       "    </tr>\n",
       "    <tr>\n",
       "      <th>1</th>\n",
       "      <td>1</td>\n",
       "      <td>2</td>\n",
       "      <td>-0.0027</td>\n",
       "      <td>-0.0003</td>\n",
       "      <td>100.0</td>\n",
       "      <td>518.67</td>\n",
       "      <td>641.71</td>\n",
       "      <td>1588.45</td>\n",
       "      <td>1395.42</td>\n",
       "      <td>14.62</td>\n",
       "      <td>...</td>\n",
       "      <td>522.16</td>\n",
       "      <td>2388.06</td>\n",
       "      <td>8139.62</td>\n",
       "      <td>8.3803</td>\n",
       "      <td>0.03</td>\n",
       "      <td>393</td>\n",
       "      <td>2388</td>\n",
       "      <td>100.0</td>\n",
       "      <td>39.02</td>\n",
       "      <td>23.3916</td>\n",
       "    </tr>\n",
       "    <tr>\n",
       "      <th>2</th>\n",
       "      <td>1</td>\n",
       "      <td>3</td>\n",
       "      <td>0.0003</td>\n",
       "      <td>0.0001</td>\n",
       "      <td>100.0</td>\n",
       "      <td>518.67</td>\n",
       "      <td>642.46</td>\n",
       "      <td>1586.94</td>\n",
       "      <td>1401.34</td>\n",
       "      <td>14.62</td>\n",
       "      <td>...</td>\n",
       "      <td>521.97</td>\n",
       "      <td>2388.03</td>\n",
       "      <td>8130.10</td>\n",
       "      <td>8.4441</td>\n",
       "      <td>0.03</td>\n",
       "      <td>393</td>\n",
       "      <td>2388</td>\n",
       "      <td>100.0</td>\n",
       "      <td>39.08</td>\n",
       "      <td>23.4166</td>\n",
       "    </tr>\n",
       "    <tr>\n",
       "      <th>3</th>\n",
       "      <td>1</td>\n",
       "      <td>4</td>\n",
       "      <td>0.0042</td>\n",
       "      <td>0.0000</td>\n",
       "      <td>100.0</td>\n",
       "      <td>518.67</td>\n",
       "      <td>642.44</td>\n",
       "      <td>1584.12</td>\n",
       "      <td>1406.42</td>\n",
       "      <td>14.62</td>\n",
       "      <td>...</td>\n",
       "      <td>521.38</td>\n",
       "      <td>2388.05</td>\n",
       "      <td>8132.90</td>\n",
       "      <td>8.3917</td>\n",
       "      <td>0.03</td>\n",
       "      <td>391</td>\n",
       "      <td>2388</td>\n",
       "      <td>100.0</td>\n",
       "      <td>39.00</td>\n",
       "      <td>23.3737</td>\n",
       "    </tr>\n",
       "    <tr>\n",
       "      <th>4</th>\n",
       "      <td>1</td>\n",
       "      <td>5</td>\n",
       "      <td>0.0014</td>\n",
       "      <td>0.0000</td>\n",
       "      <td>100.0</td>\n",
       "      <td>518.67</td>\n",
       "      <td>642.51</td>\n",
       "      <td>1587.19</td>\n",
       "      <td>1401.92</td>\n",
       "      <td>14.62</td>\n",
       "      <td>...</td>\n",
       "      <td>522.15</td>\n",
       "      <td>2388.03</td>\n",
       "      <td>8129.54</td>\n",
       "      <td>8.4031</td>\n",
       "      <td>0.03</td>\n",
       "      <td>390</td>\n",
       "      <td>2388</td>\n",
       "      <td>100.0</td>\n",
       "      <td>38.99</td>\n",
       "      <td>23.4130</td>\n",
       "    </tr>\n",
       "  </tbody>\n",
       "</table>\n",
       "<p>5 rows × 26 columns</p>\n",
       "</div>"
      ],
      "text/plain": [
       "   unit_nr  time_cycles  setting_1  setting_2  setting_3      T2     T24  \\\n",
       "0        1            1     0.0023     0.0003      100.0  518.67  643.02   \n",
       "1        1            2    -0.0027    -0.0003      100.0  518.67  641.71   \n",
       "2        1            3     0.0003     0.0001      100.0  518.67  642.46   \n",
       "3        1            4     0.0042     0.0000      100.0  518.67  642.44   \n",
       "4        1            5     0.0014     0.0000      100.0  518.67  642.51   \n",
       "\n",
       "       T30      T50     P2  ...     phi      NRf      NRc     BPR  farB  \\\n",
       "0  1585.29  1398.21  14.62  ...  521.72  2388.03  8125.55  8.4052  0.03   \n",
       "1  1588.45  1395.42  14.62  ...  522.16  2388.06  8139.62  8.3803  0.03   \n",
       "2  1586.94  1401.34  14.62  ...  521.97  2388.03  8130.10  8.4441  0.03   \n",
       "3  1584.12  1406.42  14.62  ...  521.38  2388.05  8132.90  8.3917  0.03   \n",
       "4  1587.19  1401.92  14.62  ...  522.15  2388.03  8129.54  8.4031  0.03   \n",
       "\n",
       "   htBleed  Nf_dmd  PCNfr_dmd    W31      W32  \n",
       "0      392    2388      100.0  38.86  23.3735  \n",
       "1      393    2388      100.0  39.02  23.3916  \n",
       "2      393    2388      100.0  39.08  23.4166  \n",
       "3      391    2388      100.0  39.00  23.3737  \n",
       "4      390    2388      100.0  38.99  23.4130  \n",
       "\n",
       "[5 rows x 26 columns]"
      ]
     },
     "execution_count": 6,
     "metadata": {},
     "output_type": "execute_result"
    }
   ],
   "source": [
    "test.head()"
   ]
  },
  {
   "cell_type": "code",
   "execution_count": 7,
   "id": "fd4eae8f",
   "metadata": {},
   "outputs": [
    {
     "data": {
      "text/html": [
       "<div>\n",
       "<style scoped>\n",
       "    .dataframe tbody tr th:only-of-type {\n",
       "        vertical-align: middle;\n",
       "    }\n",
       "\n",
       "    .dataframe tbody tr th {\n",
       "        vertical-align: top;\n",
       "    }\n",
       "\n",
       "    .dataframe thead th {\n",
       "        text-align: right;\n",
       "    }\n",
       "</style>\n",
       "<table border=\"1\" class=\"dataframe\">\n",
       "  <thead>\n",
       "    <tr style=\"text-align: right;\">\n",
       "      <th></th>\n",
       "      <th>RUL</th>\n",
       "    </tr>\n",
       "  </thead>\n",
       "  <tbody>\n",
       "    <tr>\n",
       "      <th>0</th>\n",
       "      <td>112</td>\n",
       "    </tr>\n",
       "    <tr>\n",
       "      <th>1</th>\n",
       "      <td>98</td>\n",
       "    </tr>\n",
       "    <tr>\n",
       "      <th>2</th>\n",
       "      <td>69</td>\n",
       "    </tr>\n",
       "    <tr>\n",
       "      <th>3</th>\n",
       "      <td>82</td>\n",
       "    </tr>\n",
       "    <tr>\n",
       "      <th>4</th>\n",
       "      <td>91</td>\n",
       "    </tr>\n",
       "  </tbody>\n",
       "</table>\n",
       "</div>"
      ],
      "text/plain": [
       "   RUL\n",
       "0  112\n",
       "1   98\n",
       "2   69\n",
       "3   82\n",
       "4   91"
      ]
     },
     "execution_count": 7,
     "metadata": {},
     "output_type": "execute_result"
    }
   ],
   "source": [
    "y_test.head()"
   ]
  },
  {
   "cell_type": "code",
   "execution_count": 8,
   "id": "eafaac90",
   "metadata": {},
   "outputs": [],
   "source": [
    "import matplotlib.pyplot as plt\n",
    "import seaborn as sns\n",
    "import random"
   ]
  },
  {
   "cell_type": "code",
   "execution_count": 9,
   "id": "39538255",
   "metadata": {},
   "outputs": [
    {
     "data": {
      "image/png": "[encoded data removed]",
      "text/plain": [
       "<Figure size 1080x1080 with 24 Axes>"
      ]
     },
     "metadata": {
      "needs_background": "light"
     },
     "output_type": "display_data"
    }
   ],
   "source": [
    "fig, axes = plt.subplots(int(len(train.columns[2:])/8), 8, figsize=(15, 15))\n",
    "fig.tight_layout()\n",
    "i, j = 0, 0 \n",
    "for feature in train.columns[2:]:\n",
    "    sns.boxplot(ax=axes[i, j], data=train[feature], width=0.5, color=random.choice(sns.color_palette(\"Paired\"))).set(title=feature)\n",
    "    j = j + 1\n",
    "    if j == 8:\n",
    "        j = 0\n",
    "        i = i + 1"
   ]
  },
  {
   "cell_type": "code",
   "execution_count": 10,
   "id": "93859379",
   "metadata": {},
   "outputs": [],
   "source": [
    "drop_labels = ['setting_3', 'T2', 'P2', 'epr', 'farB', 'Nf_dmd', 'PCNfr_dmd']\n",
    "train = train.drop(drop_labels, axis=1)"
   ]
  },
  {
   "cell_type": "code",
   "execution_count": 11,
   "id": "e5d7f188",
   "metadata": {},
   "outputs": [],
   "source": [
    "def add_remaining_useful_life(df):\n",
    "    # Get the total number of cycles for each unit\n",
    "    grouped_by_unit = df.groupby(by=\"unit_nr\")\n",
    "    max_cycle = grouped_by_unit[\"time_cycles\"].max()\n",
    "    \n",
    "    # Merge the max cycle back into the original frame\n",
    "    result_frame = df.merge(max_cycle.to_frame(name='max_cycle'), left_on='unit_nr', right_index=True)\n",
    "    \n",
    "    # Calculate remaining useful life for each row\n",
    "    remaining_useful_life = result_frame[\"max_cycle\"] - result_frame[\"time_cycles\"]\n",
    "    result_frame[\"RUL\"] = remaining_useful_life\n",
    "    \n",
    "    # drop max_cycle as it's no longer needed\n",
    "    result_frame = result_frame.drop(\"max_cycle\", axis=1)\n",
    "    return result_frame"
   ]
  },
  {
   "cell_type": "code",
   "execution_count": 12,
   "id": "05447138",
   "metadata": {},
   "outputs": [],
   "source": [
    "train = add_remaining_useful_life(train)"
   ]
  },
  {
   "cell_type": "code",
   "execution_count": 13,
   "id": "2460a53c",
   "metadata": {},
   "outputs": [
    {
     "data": {
      "text/html": [
       "<div>\n",
       "<style scoped>\n",
       "    .dataframe tbody tr th:only-of-type {\n",
       "        vertical-align: middle;\n",
       "    }\n",
       "\n",
       "    .dataframe tbody tr th {\n",
       "        vertical-align: top;\n",
       "    }\n",
       "\n",
       "    .dataframe thead th {\n",
       "        text-align: right;\n",
       "    }\n",
       "</style>\n",
       "<table border=\"1\" class=\"dataframe\">\n",
       "  <thead>\n",
       "    <tr style=\"text-align: right;\">\n",
       "      <th></th>\n",
       "      <th>unit_nr</th>\n",
       "      <th>time_cycles</th>\n",
       "      <th>setting_1</th>\n",
       "      <th>setting_2</th>\n",
       "      <th>T24</th>\n",
       "      <th>T30</th>\n",
       "      <th>T50</th>\n",
       "      <th>P15</th>\n",
       "      <th>P30</th>\n",
       "      <th>Nf</th>\n",
       "      <th>Nc</th>\n",
       "      <th>Ps30</th>\n",
       "      <th>phi</th>\n",
       "      <th>NRf</th>\n",
       "      <th>NRc</th>\n",
       "      <th>BPR</th>\n",
       "      <th>htBleed</th>\n",
       "      <th>W31</th>\n",
       "      <th>W32</th>\n",
       "      <th>RUL</th>\n",
       "    </tr>\n",
       "  </thead>\n",
       "  <tbody>\n",
       "    <tr>\n",
       "      <th>0</th>\n",
       "      <td>1</td>\n",
       "      <td>1</td>\n",
       "      <td>-0.0007</td>\n",
       "      <td>-0.0004</td>\n",
       "      <td>641.82</td>\n",
       "      <td>1589.70</td>\n",
       "      <td>1400.60</td>\n",
       "      <td>21.61</td>\n",
       "      <td>554.36</td>\n",
       "      <td>2388.06</td>\n",
       "      <td>9046.19</td>\n",
       "      <td>47.47</td>\n",
       "      <td>521.66</td>\n",
       "      <td>2388.02</td>\n",
       "      <td>8138.62</td>\n",
       "      <td>8.4195</td>\n",
       "      <td>392</td>\n",
       "      <td>39.06</td>\n",
       "      <td>23.4190</td>\n",
       "      <td>191</td>\n",
       "    </tr>\n",
       "    <tr>\n",
       "      <th>1</th>\n",
       "      <td>1</td>\n",
       "      <td>2</td>\n",
       "      <td>0.0019</td>\n",
       "      <td>-0.0003</td>\n",
       "      <td>642.15</td>\n",
       "      <td>1591.82</td>\n",
       "      <td>1403.14</td>\n",
       "      <td>21.61</td>\n",
       "      <td>553.75</td>\n",
       "      <td>2388.04</td>\n",
       "      <td>9044.07</td>\n",
       "      <td>47.49</td>\n",
       "      <td>522.28</td>\n",
       "      <td>2388.07</td>\n",
       "      <td>8131.49</td>\n",
       "      <td>8.4318</td>\n",
       "      <td>392</td>\n",
       "      <td>39.00</td>\n",
       "      <td>23.4236</td>\n",
       "      <td>190</td>\n",
       "    </tr>\n",
       "    <tr>\n",
       "      <th>2</th>\n",
       "      <td>1</td>\n",
       "      <td>3</td>\n",
       "      <td>-0.0043</td>\n",
       "      <td>0.0003</td>\n",
       "      <td>642.35</td>\n",
       "      <td>1587.99</td>\n",
       "      <td>1404.20</td>\n",
       "      <td>21.61</td>\n",
       "      <td>554.26</td>\n",
       "      <td>2388.08</td>\n",
       "      <td>9052.94</td>\n",
       "      <td>47.27</td>\n",
       "      <td>522.42</td>\n",
       "      <td>2388.03</td>\n",
       "      <td>8133.23</td>\n",
       "      <td>8.4178</td>\n",
       "      <td>390</td>\n",
       "      <td>38.95</td>\n",
       "      <td>23.3442</td>\n",
       "      <td>189</td>\n",
       "    </tr>\n",
       "    <tr>\n",
       "      <th>3</th>\n",
       "      <td>1</td>\n",
       "      <td>4</td>\n",
       "      <td>0.0007</td>\n",
       "      <td>0.0000</td>\n",
       "      <td>642.35</td>\n",
       "      <td>1582.79</td>\n",
       "      <td>1401.87</td>\n",
       "      <td>21.61</td>\n",
       "      <td>554.45</td>\n",
       "      <td>2388.11</td>\n",
       "      <td>9049.48</td>\n",
       "      <td>47.13</td>\n",
       "      <td>522.86</td>\n",
       "      <td>2388.08</td>\n",
       "      <td>8133.83</td>\n",
       "      <td>8.3682</td>\n",
       "      <td>392</td>\n",
       "      <td>38.88</td>\n",
       "      <td>23.3739</td>\n",
       "      <td>188</td>\n",
       "    </tr>\n",
       "    <tr>\n",
       "      <th>4</th>\n",
       "      <td>1</td>\n",
       "      <td>5</td>\n",
       "      <td>-0.0019</td>\n",
       "      <td>-0.0002</td>\n",
       "      <td>642.37</td>\n",
       "      <td>1582.85</td>\n",
       "      <td>1406.22</td>\n",
       "      <td>21.61</td>\n",
       "      <td>554.00</td>\n",
       "      <td>2388.06</td>\n",
       "      <td>9055.15</td>\n",
       "      <td>47.28</td>\n",
       "      <td>522.19</td>\n",
       "      <td>2388.04</td>\n",
       "      <td>8133.80</td>\n",
       "      <td>8.4294</td>\n",
       "      <td>393</td>\n",
       "      <td>38.90</td>\n",
       "      <td>23.4044</td>\n",
       "      <td>187</td>\n",
       "    </tr>\n",
       "    <tr>\n",
       "      <th>...</th>\n",
       "      <td>...</td>\n",
       "      <td>...</td>\n",
       "      <td>...</td>\n",
       "      <td>...</td>\n",
       "      <td>...</td>\n",
       "      <td>...</td>\n",
       "      <td>...</td>\n",
       "      <td>...</td>\n",
       "      <td>...</td>\n",
       "      <td>...</td>\n",
       "      <td>...</td>\n",
       "      <td>...</td>\n",
       "      <td>...</td>\n",
       "      <td>...</td>\n",
       "      <td>...</td>\n",
       "      <td>...</td>\n",
       "      <td>...</td>\n",
       "      <td>...</td>\n",
       "      <td>...</td>\n",
       "      <td>...</td>\n",
       "    </tr>\n",
       "    <tr>\n",
       "      <th>187</th>\n",
       "      <td>1</td>\n",
       "      <td>188</td>\n",
       "      <td>-0.0067</td>\n",
       "      <td>0.0003</td>\n",
       "      <td>643.75</td>\n",
       "      <td>1602.38</td>\n",
       "      <td>1422.78</td>\n",
       "      <td>21.61</td>\n",
       "      <td>551.94</td>\n",
       "      <td>2388.31</td>\n",
       "      <td>9037.91</td>\n",
       "      <td>48.00</td>\n",
       "      <td>519.79</td>\n",
       "      <td>2388.23</td>\n",
       "      <td>8117.69</td>\n",
       "      <td>8.5207</td>\n",
       "      <td>396</td>\n",
       "      <td>38.51</td>\n",
       "      <td>22.9588</td>\n",
       "      <td>4</td>\n",
       "    </tr>\n",
       "    <tr>\n",
       "      <th>188</th>\n",
       "      <td>1</td>\n",
       "      <td>189</td>\n",
       "      <td>-0.0006</td>\n",
       "      <td>0.0002</td>\n",
       "      <td>644.18</td>\n",
       "      <td>1596.17</td>\n",
       "      <td>1428.01</td>\n",
       "      <td>21.61</td>\n",
       "      <td>550.70</td>\n",
       "      <td>2388.27</td>\n",
       "      <td>9044.55</td>\n",
       "      <td>48.08</td>\n",
       "      <td>519.58</td>\n",
       "      <td>2388.33</td>\n",
       "      <td>8117.51</td>\n",
       "      <td>8.5183</td>\n",
       "      <td>395</td>\n",
       "      <td>38.48</td>\n",
       "      <td>23.1127</td>\n",
       "      <td>3</td>\n",
       "    </tr>\n",
       "    <tr>\n",
       "      <th>189</th>\n",
       "      <td>1</td>\n",
       "      <td>190</td>\n",
       "      <td>-0.0027</td>\n",
       "      <td>0.0001</td>\n",
       "      <td>643.64</td>\n",
       "      <td>1599.22</td>\n",
       "      <td>1425.95</td>\n",
       "      <td>21.61</td>\n",
       "      <td>551.29</td>\n",
       "      <td>2388.29</td>\n",
       "      <td>9040.58</td>\n",
       "      <td>48.33</td>\n",
       "      <td>520.04</td>\n",
       "      <td>2388.35</td>\n",
       "      <td>8112.58</td>\n",
       "      <td>8.5223</td>\n",
       "      <td>398</td>\n",
       "      <td>38.49</td>\n",
       "      <td>23.0675</td>\n",
       "      <td>2</td>\n",
       "    </tr>\n",
       "    <tr>\n",
       "      <th>190</th>\n",
       "      <td>1</td>\n",
       "      <td>191</td>\n",
       "      <td>-0.0000</td>\n",
       "      <td>-0.0004</td>\n",
       "      <td>643.34</td>\n",
       "      <td>1602.36</td>\n",
       "      <td>1425.77</td>\n",
       "      <td>21.61</td>\n",
       "      <td>550.92</td>\n",
       "      <td>2388.28</td>\n",
       "      <td>9042.76</td>\n",
       "      <td>48.15</td>\n",
       "      <td>519.57</td>\n",
       "      <td>2388.30</td>\n",
       "      <td>8114.61</td>\n",
       "      <td>8.5174</td>\n",
       "      <td>394</td>\n",
       "      <td>38.45</td>\n",
       "      <td>23.1295</td>\n",
       "      <td>1</td>\n",
       "    </tr>\n",
       "    <tr>\n",
       "      <th>191</th>\n",
       "      <td>1</td>\n",
       "      <td>192</td>\n",
       "      <td>0.0009</td>\n",
       "      <td>-0.0000</td>\n",
       "      <td>643.54</td>\n",
       "      <td>1601.41</td>\n",
       "      <td>1427.20</td>\n",
       "      <td>21.61</td>\n",
       "      <td>551.25</td>\n",
       "      <td>2388.32</td>\n",
       "      <td>9033.22</td>\n",
       "      <td>48.25</td>\n",
       "      <td>520.08</td>\n",
       "      <td>2388.32</td>\n",
       "      <td>8110.93</td>\n",
       "      <td>8.5113</td>\n",
       "      <td>396</td>\n",
       "      <td>38.48</td>\n",
       "      <td>22.9649</td>\n",
       "      <td>0</td>\n",
       "    </tr>\n",
       "  </tbody>\n",
       "</table>\n",
       "<p>192 rows × 20 columns</p>\n",
       "</div>"
      ],
      "text/plain": [
       "     unit_nr  time_cycles  setting_1  setting_2     T24      T30      T50  \\\n",
       "0          1            1    -0.0007    -0.0004  641.82  1589.70  1400.60   \n",
       "1          1            2     0.0019    -0.0003  642.15  1591.82  1403.14   \n",
       "2          1            3    -0.0043     0.0003  642.35  1587.99  1404.20   \n",
       "3          1            4     0.0007     0.0000  642.35  1582.79  1401.87   \n",
       "4          1            5    -0.0019    -0.0002  642.37  1582.85  1406.22   \n",
       "..       ...          ...        ...        ...     ...      ...      ...   \n",
       "187        1          188    -0.0067     0.0003  643.75  1602.38  1422.78   \n",
       "188        1          189    -0.0006     0.0002  644.18  1596.17  1428.01   \n",
       "189        1          190    -0.0027     0.0001  643.64  1599.22  1425.95   \n",
       "190        1          191    -0.0000    -0.0004  643.34  1602.36  1425.77   \n",
       "191        1          192     0.0009    -0.0000  643.54  1601.41  1427.20   \n",
       "\n",
       "       P15     P30       Nf       Nc   Ps30     phi      NRf      NRc     BPR  \\\n",
       "0    21.61  554.36  2388.06  9046.19  47.47  521.66  2388.02  8138.62  8.4195   \n",
       "1    21.61  553.75  2388.04  9044.07  47.49  522.28  2388.07  8131.49  8.4318   \n",
       "2    21.61  554.26  2388.08  9052.94  47.27  522.42  2388.03  8133.23  8.4178   \n",
       "3    21.61  554.45  2388.11  9049.48  47.13  522.86  2388.08  8133.83  8.3682   \n",
       "4    21.61  554.00  2388.06  9055.15  47.28  522.19  2388.04  8133.80  8.4294   \n",
       "..     ...     ...      ...      ...    ...     ...      ...      ...     ...   \n",
       "187  21.61  551.94  2388.31  9037.91  48.00  519.79  2388.23  8117.69  8.5207   \n",
       "188  21.61  550.70  2388.27  9044.55  48.08  519.58  2388.33  8117.51  8.5183   \n",
       "189  21.61  551.29  2388.29  9040.58  48.33  520.04  2388.35  8112.58  8.5223   \n",
       "190  21.61  550.92  2388.28  9042.76  48.15  519.57  2388.30  8114.61  8.5174   \n",
       "191  21.61  551.25  2388.32  9033.22  48.25  520.08  2388.32  8110.93  8.5113   \n",
       "\n",
       "     htBleed    W31      W32  RUL  \n",
       "0        392  39.06  23.4190  191  \n",
       "1        392  39.00  23.4236  190  \n",
       "2        390  38.95  23.3442  189  \n",
       "3        392  38.88  23.3739  188  \n",
       "4        393  38.90  23.4044  187  \n",
       "..       ...    ...      ...  ...  \n",
       "187      396  38.51  22.9588    4  \n",
       "188      395  38.48  23.1127    3  \n",
       "189      398  38.49  23.0675    2  \n",
       "190      394  38.45  23.1295    1  \n",
       "191      396  38.48  22.9649    0  \n",
       "\n",
       "[192 rows x 20 columns]"
      ]
     },
     "execution_count": 13,
     "metadata": {},
     "output_type": "execute_result"
    }
   ],
   "source": [
    "train[train['unit_nr'] == 1]"
   ]
  },
  {
   "cell_type": "code",
   "execution_count": 14,
   "id": "d9a56dfa",
   "metadata": {},
   "outputs": [],
   "source": [
    "drop_labels = index_names + drop_labels"
   ]
  },
  {
   "cell_type": "code",
   "execution_count": 15,
   "id": "92c6d10d",
   "metadata": {},
   "outputs": [],
   "source": [
    "X_train = train.drop(index_names, axis=1)\n",
    "y_train = X_train.pop('RUL')\n",
    "X_test = test.groupby('unit_nr').last().reset_index().drop(drop_labels, axis=1)"
   ]
  },
  {
   "cell_type": "code",
   "execution_count": 16,
   "id": "80054521",
   "metadata": {},
   "outputs": [],
   "source": [
    "from sklearn.metrics import mean_squared_error as mse\n",
    "from sklearn.metrics import r2_score"
   ]
  },
  {
   "cell_type": "code",
   "execution_count": 17,
   "id": "a18bd6e7",
   "metadata": {},
   "outputs": [],
   "source": [
    "from sklearn.preprocessing import MinMaxScaler\n",
    "from sklearn.preprocessing import MaxAbsScaler\n",
    "from sklearn.preprocessing import StandardScaler\n",
    "from sklearn.preprocessing import RobustScaler\n",
    "from sklearn.preprocessing import Normalizer\n",
    "from sklearn.preprocessing import QuantileTransformer"
   ]
  },
  {
   "cell_type": "code",
   "execution_count": 18,
   "id": "990fde9b",
   "metadata": {},
   "outputs": [],
   "source": [
    "from sklearn.linear_model import LinearRegression\n",
    "from sklearn.svm import SVR\n",
    "from sklearn.ensemble import RandomForestRegressor\n",
    "from sklearn.tree import DecisionTreeRegressor\n",
    "from sklearn.neighbors import KNeighborsRegressor\n",
    "from sklearn.ensemble import AdaBoostRegressor\n",
    "from sklearn.ensemble import GradientBoostingRegressor\n",
    "from sklearn.linear_model import Lasso\n",
    "from sklearn.linear_model import BayesianRidge\n",
    "from sklearn.linear_model import PoissonRegressor\n",
    "from sklearn.linear_model import SGDRegressor"
   ]
  },
  {
   "cell_type": "code",
   "execution_count": 19,
   "id": "71c03aa6",
   "metadata": {},
   "outputs": [],
   "source": [
    "def fit_predict(X_train, X_test, y_train, y_test, model):\n",
    "    model.fit(X_train, y_train)\n",
    "    y_pred = model.predict(X_test)\n",
    "    rmse = np.sqrt(mse(y_test, y_pred))\n",
    "    r2 = r2_score(y_test, y_pred)\n",
    "    return rmse, r2"
   ]
  },
  {
   "cell_type": "code",
   "execution_count": 20,
   "id": "6d701302",
   "metadata": {},
   "outputs": [],
   "source": [
    "def scaling(scaler):\n",
    "    scaled_X_train=scaler.fit_transform(X_train)\n",
    "    scaled_X_test=scaler.transform(X_test)\n",
    "    return scaled_X_train, scaled_X_test"
   ]
  },
  {
   "cell_type": "code",
   "execution_count": 21,
   "id": "b5ef05ca",
   "metadata": {},
   "outputs": [
    {
     "name": "stdout",
     "output_type": "stream",
     "text": [
      "RMSE: 32.04109478173165 R2-Score: 0.4054954961208932\n"
     ]
    }
   ],
   "source": [
    "lr = LinearRegression()\n",
    "rmse, r2 = fit_predict(X_train, X_test, y_train, y_test, lr)\n",
    "print('RMSE:', rmse, 'R2-Score:', r2)"
   ]
  },
  {
   "cell_type": "code",
   "execution_count": 22,
   "id": "500f1ce8",
   "metadata": {},
   "outputs": [],
   "source": [
    "res = []\n",
    "for i in range(115, 131):\n",
    "    y_train_clipped = y_train.clip(upper=i)\n",
    "    rmse, r2 = fit_predict(X_train, X_test, y_train_clipped, y_test, lr)\n",
    "    res.append(rmse)"
   ]
  },
  {
   "cell_type": "code",
   "execution_count": 23,
   "id": "14219d6b",
   "metadata": {},
   "outputs": [
    {
     "data": {
      "image/png": "[encoded data removed]",
      "text/plain": [
       "<Figure size 1440x720 with 1 Axes>"
      ]
     },
     "metadata": {
      "needs_background": "light"
     },
     "output_type": "display_data"
    }
   ],
   "source": [
    "fig, ax = plt.subplots(figsize=(20,10))\n",
    "ax.plot(range(115, 131), res)\n",
    "ax.set(xlabel='Clip Value', ylabel='RMSE')\n",
    "ax.grid()\n",
    "plt.show()"
   ]
  },
  {
   "cell_type": "code",
   "execution_count": 24,
   "id": "00616046",
   "metadata": {},
   "outputs": [],
   "source": [
    "y_train_clipped = y_train.clip(upper=123)"
   ]
  },
  {
   "cell_type": "code",
   "execution_count": 25,
   "id": "b5a01ace",
   "metadata": {},
   "outputs": [],
   "source": [
    "models = [LinearRegression(), SVR(kernel='linear'), RandomForestRegressor(random_state=1), DecisionTreeRegressor(random_state=1), \n",
    "          KNeighborsRegressor(), AdaBoostRegressor(random_state=1), GradientBoostingRegressor(random_state=1), \n",
    "          Lasso(random_state=1), BayesianRidge(), PoissonRegressor(), SGDRegressor(random_state=1)]"
   ]
  },
  {
   "cell_type": "code",
   "execution_count": 26,
   "id": "974167ff",
   "metadata": {},
   "outputs": [],
   "source": [
    "scalers = [MinMaxScaler(), MaxAbsScaler(), StandardScaler(), RobustScaler(), Normalizer(), QuantileTransformer()]"
   ]
  },
  {
   "cell_type": "code",
   "execution_count": 27,
   "id": "3a48edbb",
   "metadata": {},
   "outputs": [
    {
     "name": "stderr",
     "output_type": "stream",
     "text": [
      "C:\\anaconda\\lib\\site-packages\\sklearn\\linear_model\\_stochastic_gradient.py:1503: ConvergenceWarning: Maximum number of iteration reached before convergence. Consider increasing max_iter to improve the fit.\n",
      "  warnings.warn(\n"
     ]
    }
   ],
   "source": [
    "Model = []\n",
    "Scaler = []\n",
    "RMSE = []\n",
    "Score = []\n",
    "for model in models:\n",
    "    for scale in scalers:\n",
    "        scaled_X_train, scaled_X_test = scaling(scale)\n",
    "        rmse, r2 = fit_predict(scaled_X_train, scaled_X_test, y_train_clipped, y_test, model)\n",
    "        Model.append(type(model).__name__)\n",
    "        Scaler.append(type(scale).__name__)\n",
    "        RMSE.append(rmse)\n",
    "        Score.append(r2)"
   ]
  },
  {
   "cell_type": "code",
   "execution_count": 28,
   "id": "99fa321c",
   "metadata": {},
   "outputs": [],
   "source": [
    "d = {'Model': Model, 'Scaler': Scaler, 'RMSE': RMSE, 'R2-Score': Score}"
   ]
  },
  {
   "cell_type": "code",
   "execution_count": 29,
   "id": "e134c7b8",
   "metadata": {},
   "outputs": [],
   "source": [
    "results = pd.DataFrame(data=d)"
   ]
  },
  {
   "cell_type": "code",
   "execution_count": 30,
   "id": "1fa5d135",
   "metadata": {},
   "outputs": [
    {
     "data": {
      "text/html": [
       "<div>\n",
       "<style scoped>\n",
       "    .dataframe tbody tr th:only-of-type {\n",
       "        vertical-align: middle;\n",
       "    }\n",
       "\n",
       "    .dataframe tbody tr th {\n",
       "        vertical-align: top;\n",
       "    }\n",
       "\n",
       "    .dataframe thead th {\n",
       "        text-align: right;\n",
       "    }\n",
       "</style>\n",
       "<table border=\"1\" class=\"dataframe\">\n",
       "  <thead>\n",
       "    <tr style=\"text-align: right;\">\n",
       "      <th></th>\n",
       "      <th>Model</th>\n",
       "      <th>Scaler</th>\n",
       "      <th>RMSE</th>\n",
       "      <th>R2-Score</th>\n",
       "    </tr>\n",
       "  </thead>\n",
       "  <tbody>\n",
       "    <tr>\n",
       "      <th>0</th>\n",
       "      <td>LinearRegression</td>\n",
       "      <td>MinMaxScaler</td>\n",
       "      <td>21.890167</td>\n",
       "      <td>0.722516</td>\n",
       "    </tr>\n",
       "    <tr>\n",
       "      <th>1</th>\n",
       "      <td>LinearRegression</td>\n",
       "      <td>MaxAbsScaler</td>\n",
       "      <td>21.890167</td>\n",
       "      <td>0.722516</td>\n",
       "    </tr>\n",
       "    <tr>\n",
       "      <th>2</th>\n",
       "      <td>LinearRegression</td>\n",
       "      <td>StandardScaler</td>\n",
       "      <td>21.890167</td>\n",
       "      <td>0.722516</td>\n",
       "    </tr>\n",
       "    <tr>\n",
       "      <th>3</th>\n",
       "      <td>LinearRegression</td>\n",
       "      <td>RobustScaler</td>\n",
       "      <td>21.890167</td>\n",
       "      <td>0.722516</td>\n",
       "    </tr>\n",
       "    <tr>\n",
       "      <th>4</th>\n",
       "      <td>LinearRegression</td>\n",
       "      <td>Normalizer</td>\n",
       "      <td>21.743687</td>\n",
       "      <td>0.726217</td>\n",
       "    </tr>\n",
       "    <tr>\n",
       "      <th>...</th>\n",
       "      <td>...</td>\n",
       "      <td>...</td>\n",
       "      <td>...</td>\n",
       "      <td>...</td>\n",
       "    </tr>\n",
       "    <tr>\n",
       "      <th>61</th>\n",
       "      <td>SGDRegressor</td>\n",
       "      <td>MaxAbsScaler</td>\n",
       "      <td>34.637616</td>\n",
       "      <td>0.305237</td>\n",
       "    </tr>\n",
       "    <tr>\n",
       "      <th>62</th>\n",
       "      <td>SGDRegressor</td>\n",
       "      <td>StandardScaler</td>\n",
       "      <td>22.091059</td>\n",
       "      <td>0.717399</td>\n",
       "    </tr>\n",
       "    <tr>\n",
       "      <th>63</th>\n",
       "      <td>SGDRegressor</td>\n",
       "      <td>RobustScaler</td>\n",
       "      <td>22.122384</td>\n",
       "      <td>0.716597</td>\n",
       "    </tr>\n",
       "    <tr>\n",
       "      <th>64</th>\n",
       "      <td>SGDRegressor</td>\n",
       "      <td>Normalizer</td>\n",
       "      <td>43.228108</td>\n",
       "      <td>-0.082114</td>\n",
       "    </tr>\n",
       "    <tr>\n",
       "      <th>65</th>\n",
       "      <td>SGDRegressor</td>\n",
       "      <td>QuantileTransformer</td>\n",
       "      <td>22.906950</td>\n",
       "      <td>0.696139</td>\n",
       "    </tr>\n",
       "  </tbody>\n",
       "</table>\n",
       "<p>66 rows × 4 columns</p>\n",
       "</div>"
      ],
      "text/plain": [
       "               Model               Scaler       RMSE  R2-Score\n",
       "0   LinearRegression         MinMaxScaler  21.890167  0.722516\n",
       "1   LinearRegression         MaxAbsScaler  21.890167  0.722516\n",
       "2   LinearRegression       StandardScaler  21.890167  0.722516\n",
       "3   LinearRegression         RobustScaler  21.890167  0.722516\n",
       "4   LinearRegression           Normalizer  21.743687  0.726217\n",
       "..               ...                  ...        ...       ...\n",
       "61      SGDRegressor         MaxAbsScaler  34.637616  0.305237\n",
       "62      SGDRegressor       StandardScaler  22.091059  0.717399\n",
       "63      SGDRegressor         RobustScaler  22.122384  0.716597\n",
       "64      SGDRegressor           Normalizer  43.228108 -0.082114\n",
       "65      SGDRegressor  QuantileTransformer  22.906950  0.696139\n",
       "\n",
       "[66 rows x 4 columns]"
      ]
     },
     "execution_count": 30,
     "metadata": {},
     "output_type": "execute_result"
    }
   ],
   "source": [
    "results"
   ]
  },
  {
   "cell_type": "code",
   "execution_count": 31,
   "id": "7ebcc1a4",
   "metadata": {},
   "outputs": [
    {
     "data": {
      "text/html": [
       "<div>\n",
       "<style scoped>\n",
       "    .dataframe tbody tr th:only-of-type {\n",
       "        vertical-align: middle;\n",
       "    }\n",
       "\n",
       "    .dataframe tbody tr th {\n",
       "        vertical-align: top;\n",
       "    }\n",
       "\n",
       "    .dataframe thead th {\n",
       "        text-align: right;\n",
       "    }\n",
       "</style>\n",
       "<table border=\"1\" class=\"dataframe\">\n",
       "  <thead>\n",
       "    <tr style=\"text-align: right;\">\n",
       "      <th></th>\n",
       "      <th>Model</th>\n",
       "      <th>Scaler</th>\n",
       "      <th>RMSE</th>\n",
       "      <th>R2-Score</th>\n",
       "    </tr>\n",
       "  </thead>\n",
       "  <tbody>\n",
       "    <tr>\n",
       "      <th>14</th>\n",
       "      <td>RandomForestRegressor</td>\n",
       "      <td>StandardScaler</td>\n",
       "      <td>18.446522</td>\n",
       "      <td>0.802953</td>\n",
       "    </tr>\n",
       "    <tr>\n",
       "      <th>13</th>\n",
       "      <td>RandomForestRegressor</td>\n",
       "      <td>MaxAbsScaler</td>\n",
       "      <td>18.463985</td>\n",
       "      <td>0.802580</td>\n",
       "    </tr>\n",
       "    <tr>\n",
       "      <th>17</th>\n",
       "      <td>RandomForestRegressor</td>\n",
       "      <td>QuantileTransformer</td>\n",
       "      <td>18.472566</td>\n",
       "      <td>0.802396</td>\n",
       "    </tr>\n",
       "    <tr>\n",
       "      <th>12</th>\n",
       "      <td>RandomForestRegressor</td>\n",
       "      <td>MinMaxScaler</td>\n",
       "      <td>18.476719</td>\n",
       "      <td>0.802308</td>\n",
       "    </tr>\n",
       "    <tr>\n",
       "      <th>15</th>\n",
       "      <td>RandomForestRegressor</td>\n",
       "      <td>RobustScaler</td>\n",
       "      <td>18.478318</td>\n",
       "      <td>0.802273</td>\n",
       "    </tr>\n",
       "  </tbody>\n",
       "</table>\n",
       "</div>"
      ],
      "text/plain": [
       "                    Model               Scaler       RMSE  R2-Score\n",
       "14  RandomForestRegressor       StandardScaler  18.446522  0.802953\n",
       "13  RandomForestRegressor         MaxAbsScaler  18.463985  0.802580\n",
       "17  RandomForestRegressor  QuantileTransformer  18.472566  0.802396\n",
       "12  RandomForestRegressor         MinMaxScaler  18.476719  0.802308\n",
       "15  RandomForestRegressor         RobustScaler  18.478318  0.802273"
      ]
     },
     "execution_count": 31,
     "metadata": {},
     "output_type": "execute_result"
    }
   ],
   "source": [
    "results.sort_values(by=\"RMSE\").head()"
   ]
  },
  {
   "cell_type": "code",
   "execution_count": 32,
   "id": "ef5e42e8",
   "metadata": {},
   "outputs": [],
   "source": [
    "scaled_X_train, scaled_X_test = scaling(StandardScaler())"
   ]
  },
  {
   "cell_type": "code",
   "execution_count": 33,
   "id": "6d41ec15",
   "metadata": {},
   "outputs": [],
   "source": [
    "rmses = []\n",
    "max_depth = [10, 20, 50, 75, 100, None]\n",
    "for i in max_depth:\n",
    "    rfr = RandomForestRegressor(random_state=1, max_depth=i)\n",
    "    rmse, r2 = fit_predict(scaled_X_train, scaled_X_test, y_train_clipped, y_test, rfr)\n",
    "    rmses.append(rmse)"
   ]
  },
  {
   "cell_type": "code",
   "execution_count": 34,
   "id": "e1cf1c98",
   "metadata": {},
   "outputs": [
    {
     "data": {
      "image/png": "[encoded data removed]",
      "text/plain": [
       "<Figure size 432x288 with 1 Axes>"
      ]
     },
     "metadata": {
      "needs_background": "light"
     },
     "output_type": "display_data"
    }
   ],
   "source": [
    "fig, ax = plt.subplots()\n",
    "ax.plot(max_depth, rmses)\n",
    "ax.set(xlabel='Max Depth', ylabel='RMSE')\n",
    "ax.grid()\n",
    "plt.show()"
   ]
  },
  {
   "cell_type": "code",
   "execution_count": 35,
   "id": "35e82619",
   "metadata": {},
   "outputs": [],
   "source": [
    "rmses = []\n",
    "max_features = [2, 3, 5, 10, 15, None]\n",
    "for i in max_features:\n",
    "    rfr = RandomForestRegressor(random_state=1, max_features=i)\n",
    "    rmse, r2 = fit_predict(scaled_X_train, scaled_X_test, y_train_clipped, y_test, rfr)\n",
    "    rmses.append(rmse)"
   ]
  },
  {
   "cell_type": "code",
   "execution_count": 36,
   "id": "537f8394",
   "metadata": {},
   "outputs": [
    {
     "data": {
      "image/png": "[encoded data removed]",
      "text/plain": [
       "<Figure size 432x288 with 1 Axes>"
      ]
     },
     "metadata": {
      "needs_background": "light"
     },
     "output_type": "display_data"
    }
   ],
   "source": [
    "fig, ax = plt.subplots()\n",
    "ax.plot(max_features, rmses)\n",
    "ax.set(xlabel='Max Features', ylabel='RMSE')\n",
    "ax.grid()\n",
    "plt.show()"
   ]
  },
  {
   "cell_type": "code",
   "execution_count": 37,
   "id": "b42d4f93",
   "metadata": {},
   "outputs": [],
   "source": [
    "rmses = []\n",
    "min_samples_leaf = [1, 2, 3, 5, 10, 15]\n",
    "for i in min_samples_leaf:\n",
    "    rfr = RandomForestRegressor(random_state=1, min_samples_leaf=i)\n",
    "    rmse, r2 = fit_predict(scaled_X_train, scaled_X_test, y_train_clipped, y_test, rfr)\n",
    "    rmses.append(rmse)"
   ]
  },
  {
   "cell_type": "code",
   "execution_count": 38,
   "id": "ce3ac813",
   "metadata": {},
   "outputs": [
    {
     "data": {
      "image/png": "[encoded data removed]",
      "text/plain": [
       "<Figure size 432x288 with 1 Axes>"
      ]
     },
     "metadata": {
      "needs_background": "light"
     },
     "output_type": "display_data"
    }
   ],
   "source": [
    "fig, ax = plt.subplots()\n",
    "ax.plot(min_samples_leaf, rmses)\n",
    "ax.set(xlabel='Min Samples Leaf', ylabel='RMSE')\n",
    "ax.grid()\n",
    "plt.show()"
   ]
  },
  {
   "cell_type": "code",
   "execution_count": 39,
   "id": "84914559",
   "metadata": {},
   "outputs": [],
   "source": [
    "rmses = []\n",
    "min_samples_split = [2, 3, 5, 10, 15]\n",
    "for i in min_samples_split:\n",
    "    rfr = RandomForestRegressor(random_state=1, min_samples_split=i)\n",
    "    rmse, r2 = fit_predict(scaled_X_train, scaled_X_test, y_train_clipped, y_test, rfr)\n",
    "    rmses.append(rmse)"
   ]
  },
  {
   "cell_type": "code",
   "execution_count": 40,
   "id": "ccf17fb6",
   "metadata": {},
   "outputs": [
    {
     "data": {
      "image/png": "[encoded data removed]",
      "text/plain": [
       "<Figure size 432x288 with 1 Axes>"
      ]
     },
     "metadata": {
      "needs_background": "light"
     },
     "output_type": "display_data"
    }
   ],
   "source": [
    "fig, ax = plt.subplots()\n",
    "ax.plot(min_samples_split, rmses)\n",
    "ax.set(xlabel='Min Samples Split', ylabel='RMSE')\n",
    "ax.grid()\n",
    "plt.show()"
   ]
  },
  {
   "cell_type": "code",
   "execution_count": 41,
   "id": "18f8df8d",
   "metadata": {},
   "outputs": [],
   "source": [
    "rmses = []\n",
    "n_estimators = [100, 200, 300, 400, 500]\n",
    "for i in n_estimators:\n",
    "    rfr = RandomForestRegressor(random_state=1, n_estimators=i)\n",
    "    rmse, r2 = fit_predict(scaled_X_train, scaled_X_test, y_train_clipped, y_test, rfr)\n",
    "    rmses.append(rmse)"
   ]
  },
  {
   "cell_type": "code",
   "execution_count": 42,
   "id": "a0518507",
   "metadata": {},
   "outputs": [
    {
     "data": {
      "image/png": "[encoded data removed]",
      "text/plain": [
       "<Figure size 432x288 with 1 Axes>"
      ]
     },
     "metadata": {
      "needs_background": "light"
     },
     "output_type": "display_data"
    }
   ],
   "source": [
    "fig, ax = plt.subplots()\n",
    "ax.plot(n_estimators, rmses)\n",
    "ax.set(xlabel='n_estimators', ylabel='RMSE')\n",
    "ax.grid()\n",
    "plt.show()"
   ]
  },
  {
   "cell_type": "code",
   "execution_count": 43,
   "id": "5e1a91b0",
   "metadata": {},
   "outputs": [
    {
     "name": "stdout",
     "output_type": "stream",
     "text": [
      "RMSE: 17.877765549764796 R2-Score: 0.8149168292427194\n"
     ]
    }
   ],
   "source": [
    "rfr = RandomForestRegressor(random_state=1, max_depth=10, max_features=2, min_samples_leaf=2, min_samples_split=10, n_estimators=300)\n",
    "rmse, r2 = fit_predict(scaled_X_train, scaled_X_test, y_train_clipped, y_test, rfr)\n",
    "print('RMSE:', rmse, 'R2-Score:', r2)"
   ]
  },
  {
   "cell_type": "code",
   "execution_count": 44,
   "id": "20d8f9b3",
   "metadata": {},
   "outputs": [],
   "source": [
    "from sklearn.model_selection import RandomizedSearchCV"
   ]
  },
  {
   "cell_type": "code",
   "execution_count": 45,
   "id": "3233f803",
   "metadata": {},
   "outputs": [],
   "source": [
    "param_grid = {\n",
    "    'bootstrap': [True],\n",
    "    'max_depth': [10, 20, 50, 75, 100, None],\n",
    "    'max_features': [2, 3, 5, 10, 15, None],\n",
    "    'min_samples_leaf': [1, 2, 3, 5, 10, 15],\n",
    "    'min_samples_split': [2, 3, 5, 10, 15],\n",
    "    'n_estimators': [100, 200, 300, 400, 500]\n",
    "}"
   ]
  },
  {
   "cell_type": "code",
   "execution_count": 46,
   "id": "064bc3a4",
   "metadata": {},
   "outputs": [],
   "source": [
    "rf_random = RandomizedSearchCV(estimator = rfr, param_distributions = param_grid, n_iter = 100, cv = 3, verbose=2, random_state=1, n_jobs = -1)"
   ]
  },
  {
   "cell_type": "code",
   "execution_count": 47,
   "id": "893e15e1",
   "metadata": {},
   "outputs": [
    {
     "name": "stdout",
     "output_type": "stream",
     "text": [
      "Fitting 3 folds for each of 100 candidates, totalling 300 fits\n"
     ]
    },
    {
     "data": {
      "text/plain": [
       "RandomizedSearchCV(cv=3,\n",
       "                   estimator=RandomForestRegressor(max_depth=10, max_features=2,\n",
       "                                                   min_samples_leaf=2,\n",
       "                                                   min_samples_split=10,\n",
       "                                                   n_estimators=300,\n",
       "                                                   random_state=1),\n",
       "                   n_iter=100, n_jobs=-1,\n",
       "                   param_distributions={'bootstrap': [True],\n",
       "                                        'max_depth': [10, 20, 50, 75, 100,\n",
       "                                                      None],\n",
       "                                        'max_features': [2, 3, 5, 10, 15, None],\n",
       "                                        'min_samples_leaf': [1, 2, 3, 5, 10,\n",
       "                                                             15],\n",
       "                                        'min_samples_split': [2, 3, 5, 10, 15],\n",
       "                                        'n_estimators': [100, 200, 300, 400,\n",
       "                                                         500]},\n",
       "                   random_state=1, verbose=2)"
      ]
     },
     "execution_count": 47,
     "metadata": {},
     "output_type": "execute_result"
    }
   ],
   "source": [
    "rf_random.fit(scaled_X_train, y_train_clipped)"
   ]
  },
  {
   "cell_type": "code",
   "execution_count": 48,
   "id": "d9e9c261",
   "metadata": {},
   "outputs": [
    {
     "data": {
      "text/plain": [
       "{'n_estimators': 300,\n",
       " 'min_samples_split': 3,\n",
       " 'min_samples_leaf': 3,\n",
       " 'max_features': 3,\n",
       " 'max_depth': 50,\n",
       " 'bootstrap': True}"
      ]
     },
     "execution_count": 48,
     "metadata": {},
     "output_type": "execute_result"
    }
   ],
   "source": [
    "rf_random.best_params_"
   ]
  },
  {
   "cell_type": "code",
   "execution_count": 49,
   "id": "f090110b",
   "metadata": {},
   "outputs": [
    {
     "name": "stdout",
     "output_type": "stream",
     "text": [
      "RMSE: 17.777161358718384 R2-Score: 0.8169940185559407\n"
     ]
    }
   ],
   "source": [
    "rfr = RandomForestRegressor(random_state=1, max_depth=50, max_features=3, min_samples_leaf=3, min_samples_split=3, n_estimators=300)\n",
    "rmse, r2 = fit_predict(scaled_X_train, scaled_X_test, y_train_clipped, y_test, rfr)\n",
    "print('RMSE:', rmse, 'R2-Score:', r2)"
   ]
  }
 ],
 "metadata": {
  "kernelspec": {
   "display_name": "Python 3 (ipykernel)",
   "language": "python",
   "name": "python3"
  },
  "language_info": {
   "codemirror_mode": {
    "name": "ipython",
    "version": 3
   },
   "file_extension": ".py",
   "mimetype": "text/x-python",
   "name": "python",
   "nbconvert_exporter": "python",
   "pygments_lexer": "ipython3",
   "version": "3.9.7"
  }
 },
 "nbformat": 4,
 "nbformat_minor": 5
}
