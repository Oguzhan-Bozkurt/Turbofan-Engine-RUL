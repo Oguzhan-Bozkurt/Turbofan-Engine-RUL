{
 "cells": [
  {
   "cell_type": "code",
   "execution_count": 1,
   "id": "34c34ea9",
   "metadata": {
    "id": "34c34ea9"
   },
   "outputs": [],
   "source": [
    "import pandas as pd\n",
    "import numpy as np"
   ]
  },
  {
   "cell_type": "code",
   "execution_count": 2,
   "id": "6019491f",
   "metadata": {
    "id": "6019491f"
   },
   "outputs": [],
   "source": [
    "dir_path = './CMaps/'\n",
    "index_names = ['unit_nr', 'time_cycles']\n",
    "setting_names = ['setting_1', 'setting_2', 'setting_3']\n",
    "sensor_names = ['T2', 'T24', 'T30', 'T50', 'P2', 'P15', 'P30', 'Nf', 'Nc', 'epr', 'Ps30', 'phi', 'NRf', 'NRc', 'BPR', 'farB', 'htBleed', 'Nf_dmd', 'PCNfr_dmd', 'W31', 'W32'] \n",
    "col_names = index_names + setting_names + sensor_names"
   ]
  },
  {
   "cell_type": "code",
   "execution_count": 3,
   "id": "8c684de7",
   "metadata": {
    "id": "8c684de7"
   },
   "outputs": [],
   "source": [
    "def open_df(number):\n",
    "    train = pd.read_csv((dir_path+'train_FD00' + str(number) + '.txt'), sep='\\s+', header=None, names=col_names)\n",
    "    test = pd.read_csv((dir_path+'test_FD00' + str(number) + '.txt'), sep='\\s+', header=None, names=col_names)\n",
    "    y_test = pd.read_csv((dir_path+'RUL_FD00' + str(number) + '.txt'), sep='\\s+', header=None, names=['RUL'])\n",
    "    return train, test, y_test"
   ]
  },
  {
   "cell_type": "code",
   "execution_count": 4,
   "id": "256542d1",
   "metadata": {
    "id": "256542d1"
   },
   "outputs": [],
   "source": [
    "train, test, y_test = open_df(1)"
   ]
  },
  {
   "cell_type": "code",
   "execution_count": 5,
   "id": "5a6b43d1",
   "metadata": {
    "colab": {
     "base_uri": "https://localhost:8080/",
     "height": 236
    },
    "id": "5a6b43d1",
    "outputId": "5f8c129a-0277-497f-d5d6-3c3c984f1d73"
   },
   "outputs": [
    {
     "data": {
      "text/html": [
       "<div>\n",
       "<style scoped>\n",
       "    .dataframe tbody tr th:only-of-type {\n",
       "        vertical-align: middle;\n",
       "    }\n",
       "\n",
       "    .dataframe tbody tr th {\n",
       "        vertical-align: top;\n",
       "    }\n",
       "\n",
       "    .dataframe thead th {\n",
       "        text-align: right;\n",
       "    }\n",
       "</style>\n",
       "<table border=\"1\" class=\"dataframe\">\n",
       "  <thead>\n",
       "    <tr style=\"text-align: right;\">\n",
       "      <th></th>\n",
       "      <th>unit_nr</th>\n",
       "      <th>time_cycles</th>\n",
       "      <th>setting_1</th>\n",
       "      <th>setting_2</th>\n",
       "      <th>setting_3</th>\n",
       "      <th>T2</th>\n",
       "      <th>T24</th>\n",
       "      <th>T30</th>\n",
       "      <th>T50</th>\n",
       "      <th>P2</th>\n",
       "      <th>...</th>\n",
       "      <th>phi</th>\n",
       "      <th>NRf</th>\n",
       "      <th>NRc</th>\n",
       "      <th>BPR</th>\n",
       "      <th>farB</th>\n",
       "      <th>htBleed</th>\n",
       "      <th>Nf_dmd</th>\n",
       "      <th>PCNfr_dmd</th>\n",
       "      <th>W31</th>\n",
       "      <th>W32</th>\n",
       "    </tr>\n",
       "  </thead>\n",
       "  <tbody>\n",
       "    <tr>\n",
       "      <th>0</th>\n",
       "      <td>1</td>\n",
       "      <td>1</td>\n",
       "      <td>-0.0007</td>\n",
       "      <td>-0.0004</td>\n",
       "      <td>100.0</td>\n",
       "      <td>518.67</td>\n",
       "      <td>641.82</td>\n",
       "      <td>1589.70</td>\n",
       "      <td>1400.60</td>\n",
       "      <td>14.62</td>\n",
       "      <td>...</td>\n",
       "      <td>521.66</td>\n",
       "      <td>2388.02</td>\n",
       "      <td>8138.62</td>\n",
       "      <td>8.4195</td>\n",
       "      <td>0.03</td>\n",
       "      <td>392</td>\n",
       "      <td>2388</td>\n",
       "      <td>100.0</td>\n",
       "      <td>39.06</td>\n",
       "      <td>23.4190</td>\n",
       "    </tr>\n",
       "    <tr>\n",
       "      <th>1</th>\n",
       "      <td>1</td>\n",
       "      <td>2</td>\n",
       "      <td>0.0019</td>\n",
       "      <td>-0.0003</td>\n",
       "      <td>100.0</td>\n",
       "      <td>518.67</td>\n",
       "      <td>642.15</td>\n",
       "      <td>1591.82</td>\n",
       "      <td>1403.14</td>\n",
       "      <td>14.62</td>\n",
       "      <td>...</td>\n",
       "      <td>522.28</td>\n",
       "      <td>2388.07</td>\n",
       "      <td>8131.49</td>\n",
       "      <td>8.4318</td>\n",
       "      <td>0.03</td>\n",
       "      <td>392</td>\n",
       "      <td>2388</td>\n",
       "      <td>100.0</td>\n",
       "      <td>39.00</td>\n",
       "      <td>23.4236</td>\n",
       "    </tr>\n",
       "    <tr>\n",
       "      <th>2</th>\n",
       "      <td>1</td>\n",
       "      <td>3</td>\n",
       "      <td>-0.0043</td>\n",
       "      <td>0.0003</td>\n",
       "      <td>100.0</td>\n",
       "      <td>518.67</td>\n",
       "      <td>642.35</td>\n",
       "      <td>1587.99</td>\n",
       "      <td>1404.20</td>\n",
       "      <td>14.62</td>\n",
       "      <td>...</td>\n",
       "      <td>522.42</td>\n",
       "      <td>2388.03</td>\n",
       "      <td>8133.23</td>\n",
       "      <td>8.4178</td>\n",
       "      <td>0.03</td>\n",
       "      <td>390</td>\n",
       "      <td>2388</td>\n",
       "      <td>100.0</td>\n",
       "      <td>38.95</td>\n",
       "      <td>23.3442</td>\n",
       "    </tr>\n",
       "    <tr>\n",
       "      <th>3</th>\n",
       "      <td>1</td>\n",
       "      <td>4</td>\n",
       "      <td>0.0007</td>\n",
       "      <td>0.0000</td>\n",
       "      <td>100.0</td>\n",
       "      <td>518.67</td>\n",
       "      <td>642.35</td>\n",
       "      <td>1582.79</td>\n",
       "      <td>1401.87</td>\n",
       "      <td>14.62</td>\n",
       "      <td>...</td>\n",
       "      <td>522.86</td>\n",
       "      <td>2388.08</td>\n",
       "      <td>8133.83</td>\n",
       "      <td>8.3682</td>\n",
       "      <td>0.03</td>\n",
       "      <td>392</td>\n",
       "      <td>2388</td>\n",
       "      <td>100.0</td>\n",
       "      <td>38.88</td>\n",
       "      <td>23.3739</td>\n",
       "    </tr>\n",
       "    <tr>\n",
       "      <th>4</th>\n",
       "      <td>1</td>\n",
       "      <td>5</td>\n",
       "      <td>-0.0019</td>\n",
       "      <td>-0.0002</td>\n",
       "      <td>100.0</td>\n",
       "      <td>518.67</td>\n",
       "      <td>642.37</td>\n",
       "      <td>1582.85</td>\n",
       "      <td>1406.22</td>\n",
       "      <td>14.62</td>\n",
       "      <td>...</td>\n",
       "      <td>522.19</td>\n",
       "      <td>2388.04</td>\n",
       "      <td>8133.80</td>\n",
       "      <td>8.4294</td>\n",
       "      <td>0.03</td>\n",
       "      <td>393</td>\n",
       "      <td>2388</td>\n",
       "      <td>100.0</td>\n",
       "      <td>38.90</td>\n",
       "      <td>23.4044</td>\n",
       "    </tr>\n",
       "  </tbody>\n",
       "</table>\n",
       "<p>5 rows × 26 columns</p>\n",
       "</div>"
      ],
      "text/plain": [
       "   unit_nr  time_cycles  setting_1  setting_2  setting_3      T2     T24  \\\n",
       "0        1            1    -0.0007    -0.0004      100.0  518.67  641.82   \n",
       "1        1            2     0.0019    -0.0003      100.0  518.67  642.15   \n",
       "2        1            3    -0.0043     0.0003      100.0  518.67  642.35   \n",
       "3        1            4     0.0007     0.0000      100.0  518.67  642.35   \n",
       "4        1            5    -0.0019    -0.0002      100.0  518.67  642.37   \n",
       "\n",
       "       T30      T50     P2  ...     phi      NRf      NRc     BPR  farB  \\\n",
       "0  1589.70  1400.60  14.62  ...  521.66  2388.02  8138.62  8.4195  0.03   \n",
       "1  1591.82  1403.14  14.62  ...  522.28  2388.07  8131.49  8.4318  0.03   \n",
       "2  1587.99  1404.20  14.62  ...  522.42  2388.03  8133.23  8.4178  0.03   \n",
       "3  1582.79  1401.87  14.62  ...  522.86  2388.08  8133.83  8.3682  0.03   \n",
       "4  1582.85  1406.22  14.62  ...  522.19  2388.04  8133.80  8.4294  0.03   \n",
       "\n",
       "   htBleed  Nf_dmd  PCNfr_dmd    W31      W32  \n",
       "0      392    2388      100.0  39.06  23.4190  \n",
       "1      392    2388      100.0  39.00  23.4236  \n",
       "2      390    2388      100.0  38.95  23.3442  \n",
       "3      392    2388      100.0  38.88  23.3739  \n",
       "4      393    2388      100.0  38.90  23.4044  \n",
       "\n",
       "[5 rows x 26 columns]"
      ]
     },
     "execution_count": 5,
     "metadata": {},
     "output_type": "execute_result"
    }
   ],
   "source": [
    "train.head()"
   ]
  },
  {
   "cell_type": "code",
   "execution_count": 6,
   "id": "7d0a8478",
   "metadata": {
    "colab": {
     "base_uri": "https://localhost:8080/",
     "height": 236
    },
    "id": "7d0a8478",
    "outputId": "7ccfd85c-f3ce-4ed9-cac5-86dcb8ba7353"
   },
   "outputs": [
    {
     "data": {
      "text/html": [
       "<div>\n",
       "<style scoped>\n",
       "    .dataframe tbody tr th:only-of-type {\n",
       "        vertical-align: middle;\n",
       "    }\n",
       "\n",
       "    .dataframe tbody tr th {\n",
       "        vertical-align: top;\n",
       "    }\n",
       "\n",
       "    .dataframe thead th {\n",
       "        text-align: right;\n",
       "    }\n",
       "</style>\n",
       "<table border=\"1\" class=\"dataframe\">\n",
       "  <thead>\n",
       "    <tr style=\"text-align: right;\">\n",
       "      <th></th>\n",
       "      <th>unit_nr</th>\n",
       "      <th>time_cycles</th>\n",
       "      <th>setting_1</th>\n",
       "      <th>setting_2</th>\n",
       "      <th>setting_3</th>\n",
       "      <th>T2</th>\n",
       "      <th>T24</th>\n",
       "      <th>T30</th>\n",
       "      <th>T50</th>\n",
       "      <th>P2</th>\n",
       "      <th>...</th>\n",
       "      <th>phi</th>\n",
       "      <th>NRf</th>\n",
       "      <th>NRc</th>\n",
       "      <th>BPR</th>\n",
       "      <th>farB</th>\n",
       "      <th>htBleed</th>\n",
       "      <th>Nf_dmd</th>\n",
       "      <th>PCNfr_dmd</th>\n",
       "      <th>W31</th>\n",
       "      <th>W32</th>\n",
       "    </tr>\n",
       "  </thead>\n",
       "  <tbody>\n",
       "    <tr>\n",
       "      <th>0</th>\n",
       "      <td>1</td>\n",
       "      <td>1</td>\n",
       "      <td>0.0023</td>\n",
       "      <td>0.0003</td>\n",
       "      <td>100.0</td>\n",
       "      <td>518.67</td>\n",
       "      <td>643.02</td>\n",
       "      <td>1585.29</td>\n",
       "      <td>1398.21</td>\n",
       "      <td>14.62</td>\n",
       "      <td>...</td>\n",
       "      <td>521.72</td>\n",
       "      <td>2388.03</td>\n",
       "      <td>8125.55</td>\n",
       "      <td>8.4052</td>\n",
       "      <td>0.03</td>\n",
       "      <td>392</td>\n",
       "      <td>2388</td>\n",
       "      <td>100.0</td>\n",
       "      <td>38.86</td>\n",
       "      <td>23.3735</td>\n",
       "    </tr>\n",
       "    <tr>\n",
       "      <th>1</th>\n",
       "      <td>1</td>\n",
       "      <td>2</td>\n",
       "      <td>-0.0027</td>\n",
       "      <td>-0.0003</td>\n",
       "      <td>100.0</td>\n",
       "      <td>518.67</td>\n",
       "      <td>641.71</td>\n",
       "      <td>1588.45</td>\n",
       "      <td>1395.42</td>\n",
       "      <td>14.62</td>\n",
       "      <td>...</td>\n",
       "      <td>522.16</td>\n",
       "      <td>2388.06</td>\n",
       "      <td>8139.62</td>\n",
       "      <td>8.3803</td>\n",
       "      <td>0.03</td>\n",
       "      <td>393</td>\n",
       "      <td>2388</td>\n",
       "      <td>100.0</td>\n",
       "      <td>39.02</td>\n",
       "      <td>23.3916</td>\n",
       "    </tr>\n",
       "    <tr>\n",
       "      <th>2</th>\n",
       "      <td>1</td>\n",
       "      <td>3</td>\n",
       "      <td>0.0003</td>\n",
       "      <td>0.0001</td>\n",
       "      <td>100.0</td>\n",
       "      <td>518.67</td>\n",
       "      <td>642.46</td>\n",
       "      <td>1586.94</td>\n",
       "      <td>1401.34</td>\n",
       "      <td>14.62</td>\n",
       "      <td>...</td>\n",
       "      <td>521.97</td>\n",
       "      <td>2388.03</td>\n",
       "      <td>8130.10</td>\n",
       "      <td>8.4441</td>\n",
       "      <td>0.03</td>\n",
       "      <td>393</td>\n",
       "      <td>2388</td>\n",
       "      <td>100.0</td>\n",
       "      <td>39.08</td>\n",
       "      <td>23.4166</td>\n",
       "    </tr>\n",
       "    <tr>\n",
       "      <th>3</th>\n",
       "      <td>1</td>\n",
       "      <td>4</td>\n",
       "      <td>0.0042</td>\n",
       "      <td>0.0000</td>\n",
       "      <td>100.0</td>\n",
       "      <td>518.67</td>\n",
       "      <td>642.44</td>\n",
       "      <td>1584.12</td>\n",
       "      <td>1406.42</td>\n",
       "      <td>14.62</td>\n",
       "      <td>...</td>\n",
       "      <td>521.38</td>\n",
       "      <td>2388.05</td>\n",
       "      <td>8132.90</td>\n",
       "      <td>8.3917</td>\n",
       "      <td>0.03</td>\n",
       "      <td>391</td>\n",
       "      <td>2388</td>\n",
       "      <td>100.0</td>\n",
       "      <td>39.00</td>\n",
       "      <td>23.3737</td>\n",
       "    </tr>\n",
       "    <tr>\n",
       "      <th>4</th>\n",
       "      <td>1</td>\n",
       "      <td>5</td>\n",
       "      <td>0.0014</td>\n",
       "      <td>0.0000</td>\n",
       "      <td>100.0</td>\n",
       "      <td>518.67</td>\n",
       "      <td>642.51</td>\n",
       "      <td>1587.19</td>\n",
       "      <td>1401.92</td>\n",
       "      <td>14.62</td>\n",
       "      <td>...</td>\n",
       "      <td>522.15</td>\n",
       "      <td>2388.03</td>\n",
       "      <td>8129.54</td>\n",
       "      <td>8.4031</td>\n",
       "      <td>0.03</td>\n",
       "      <td>390</td>\n",
       "      <td>2388</td>\n",
       "      <td>100.0</td>\n",
       "      <td>38.99</td>\n",
       "      <td>23.4130</td>\n",
       "    </tr>\n",
       "  </tbody>\n",
       "</table>\n",
       "<p>5 rows × 26 columns</p>\n",
       "</div>"
      ],
      "text/plain": [
       "   unit_nr  time_cycles  setting_1  setting_2  setting_3      T2     T24  \\\n",
       "0        1            1     0.0023     0.0003      100.0  518.67  643.02   \n",
       "1        1            2    -0.0027    -0.0003      100.0  518.67  641.71   \n",
       "2        1            3     0.0003     0.0001      100.0  518.67  642.46   \n",
       "3        1            4     0.0042     0.0000      100.0  518.67  642.44   \n",
       "4        1            5     0.0014     0.0000      100.0  518.67  642.51   \n",
       "\n",
       "       T30      T50     P2  ...     phi      NRf      NRc     BPR  farB  \\\n",
       "0  1585.29  1398.21  14.62  ...  521.72  2388.03  8125.55  8.4052  0.03   \n",
       "1  1588.45  1395.42  14.62  ...  522.16  2388.06  8139.62  8.3803  0.03   \n",
       "2  1586.94  1401.34  14.62  ...  521.97  2388.03  8130.10  8.4441  0.03   \n",
       "3  1584.12  1406.42  14.62  ...  521.38  2388.05  8132.90  8.3917  0.03   \n",
       "4  1587.19  1401.92  14.62  ...  522.15  2388.03  8129.54  8.4031  0.03   \n",
       "\n",
       "   htBleed  Nf_dmd  PCNfr_dmd    W31      W32  \n",
       "0      392    2388      100.0  38.86  23.3735  \n",
       "1      393    2388      100.0  39.02  23.3916  \n",
       "2      393    2388      100.0  39.08  23.4166  \n",
       "3      391    2388      100.0  39.00  23.3737  \n",
       "4      390    2388      100.0  38.99  23.4130  \n",
       "\n",
       "[5 rows x 26 columns]"
      ]
     },
     "execution_count": 6,
     "metadata": {},
     "output_type": "execute_result"
    }
   ],
   "source": [
    "test.head()"
   ]
  },
  {
   "cell_type": "code",
   "execution_count": 7,
   "id": "fd4eae8f",
   "metadata": {
    "colab": {
     "base_uri": "https://localhost:8080/",
     "height": 206
    },
    "id": "fd4eae8f",
    "outputId": "1adec403-3bf5-41b5-d850-f341b77b8b91"
   },
   "outputs": [
    {
     "data": {
      "text/html": [
       "<div>\n",
       "<style scoped>\n",
       "    .dataframe tbody tr th:only-of-type {\n",
       "        vertical-align: middle;\n",
       "    }\n",
       "\n",
       "    .dataframe tbody tr th {\n",
       "        vertical-align: top;\n",
       "    }\n",
       "\n",
       "    .dataframe thead th {\n",
       "        text-align: right;\n",
       "    }\n",
       "</style>\n",
       "<table border=\"1\" class=\"dataframe\">\n",
       "  <thead>\n",
       "    <tr style=\"text-align: right;\">\n",
       "      <th></th>\n",
       "      <th>RUL</th>\n",
       "    </tr>\n",
       "  </thead>\n",
       "  <tbody>\n",
       "    <tr>\n",
       "      <th>0</th>\n",
       "      <td>112</td>\n",
       "    </tr>\n",
       "    <tr>\n",
       "      <th>1</th>\n",
       "      <td>98</td>\n",
       "    </tr>\n",
       "    <tr>\n",
       "      <th>2</th>\n",
       "      <td>69</td>\n",
       "    </tr>\n",
       "    <tr>\n",
       "      <th>3</th>\n",
       "      <td>82</td>\n",
       "    </tr>\n",
       "    <tr>\n",
       "      <th>4</th>\n",
       "      <td>91</td>\n",
       "    </tr>\n",
       "  </tbody>\n",
       "</table>\n",
       "</div>"
      ],
      "text/plain": [
       "   RUL\n",
       "0  112\n",
       "1   98\n",
       "2   69\n",
       "3   82\n",
       "4   91"
      ]
     },
     "execution_count": 7,
     "metadata": {},
     "output_type": "execute_result"
    }
   ],
   "source": [
    "y_test.head()"
   ]
  },
  {
   "cell_type": "code",
   "execution_count": 8,
   "id": "eafaac90",
   "metadata": {
    "id": "eafaac90"
   },
   "outputs": [],
   "source": [
    "import matplotlib.pyplot as plt\n",
    "import seaborn as sns\n",
    "import random"
   ]
  },
  {
   "cell_type": "code",
   "execution_count": 9,
   "id": "39538255",
   "metadata": {
    "colab": {
     "base_uri": "https://localhost:8080/",
     "height": 1000
    },
    "id": "39538255",
    "outputId": "2ad96f6b-2a55-4bfa-e03c-b5cde1836b74"
   },
   "outputs": [
    {
     "data": {
      "image/png": "[encoded data removed]",
      "text/plain": [
       "<Figure size 1080x1080 with 24 Axes>"
      ]
     },
     "metadata": {
      "needs_background": "light"
     },
     "output_type": "display_data"
    }
   ],
   "source": [
    "fig, axes = plt.subplots(int(len(train.columns[2:])/8), 8, figsize=(15, 15))\n",
    "fig.tight_layout()\n",
    "i, j = 0, 0 \n",
    "for feature in train.columns[2:]:\n",
    "    sns.boxplot(ax=axes[i, j], data=train[feature], width=0.5, color=random.choice(sns.color_palette(\"Paired\"))).set(title=feature)\n",
    "    j = j + 1\n",
    "    if j == 8:\n",
    "        j = 0\n",
    "        i = i + 1"
   ]
  },
  {
   "cell_type": "code",
   "execution_count": 10,
   "id": "93859379",
   "metadata": {
    "id": "93859379"
   },
   "outputs": [],
   "source": [
    "drop_labels = ['setting_3', 'T2', 'P2', 'epr', 'farB', 'Nf_dmd', 'PCNfr_dmd']\n",
    "train = train.drop(drop_labels, axis=1)"
   ]
  },
  {
   "cell_type": "code",
   "execution_count": 11,
   "id": "e5d7f188",
   "metadata": {
    "id": "e5d7f188"
   },
   "outputs": [],
   "source": [
    "def add_remaining_useful_life(df):\n",
    "    grouped_by_unit = df.groupby(by=\"unit_nr\")\n",
    "    max_cycle = grouped_by_unit[\"time_cycles\"].max()\n",
    "    result_frame = df.merge(max_cycle.to_frame(name='max_cycle'), left_on='unit_nr', right_index=True)\n",
    "    remaining_useful_life = result_frame[\"max_cycle\"] - result_frame[\"time_cycles\"]\n",
    "    result_frame[\"RUL\"] = remaining_useful_life\n",
    "    result_frame = result_frame.drop(\"max_cycle\", axis=1)\n",
    "    return result_frame"
   ]
  },
  {
   "cell_type": "code",
   "execution_count": 12,
   "id": "05447138",
   "metadata": {
    "id": "05447138"
   },
   "outputs": [],
   "source": [
    "train = add_remaining_useful_life(train)"
   ]
  },
  {
   "cell_type": "code",
   "execution_count": 13,
   "id": "d9a56dfa",
   "metadata": {
    "id": "d9a56dfa"
   },
   "outputs": [],
   "source": [
    "drop_labels = index_names + drop_labels"
   ]
  },
  {
   "cell_type": "code",
   "execution_count": 14,
   "id": "92c6d10d",
   "metadata": {
    "id": "92c6d10d"
   },
   "outputs": [],
   "source": [
    "X_train = train.drop(index_names, axis=1)\n",
    "y_train = X_train.pop('RUL')\n",
    "X_test = test.groupby('unit_nr').last().reset_index().drop(drop_labels, axis=1)"
   ]
  },
  {
   "cell_type": "code",
   "execution_count": 15,
   "id": "80054521",
   "metadata": {
    "id": "80054521"
   },
   "outputs": [],
   "source": [
    "from sklearn.metrics import mean_squared_error as mse\n",
    "from sklearn.metrics import r2_score"
   ]
  },
  {
   "cell_type": "code",
   "execution_count": 16,
   "id": "046b4827",
   "metadata": {
    "id": "046b4827"
   },
   "outputs": [],
   "source": [
    "from sklearn.preprocessing import MinMaxScaler\n",
    "from sklearn.preprocessing import MaxAbsScaler\n",
    "from sklearn.preprocessing import StandardScaler\n",
    "from sklearn.preprocessing import RobustScaler\n",
    "from sklearn.preprocessing import Normalizer\n",
    "from sklearn.preprocessing import QuantileTransformer"
   ]
  },
  {
   "cell_type": "code",
   "execution_count": 17,
   "id": "d7e119e1",
   "metadata": {
    "id": "d7e119e1"
   },
   "outputs": [],
   "source": [
    "def scaling(scaler):\n",
    "    scaled_X_train=scaler.fit_transform(X_train)\n",
    "    scaled_X_test=scaler.transform(X_test)\n",
    "    return scaled_X_train, scaled_X_test"
   ]
  },
  {
   "cell_type": "code",
   "execution_count": 18,
   "id": "4e733a7f",
   "metadata": {
    "id": "4e733a7f"
   },
   "outputs": [],
   "source": [
    "y_train_clipped = y_train.clip(upper=123)"
   ]
  },
  {
   "cell_type": "code",
   "execution_count": 19,
   "id": "9090b356",
   "metadata": {
    "id": "9090b356"
   },
   "outputs": [],
   "source": [
    "# Yapay Sinir Ağı için kullanılacak kütüphanelerin tanımlanması\n",
    "import tensorflow as tf\n",
    "from tensorflow.keras.models import Sequential\n",
    "from tensorflow.keras.layers import Dense, LSTM, Dropout\n",
    "tf.random.set_seed(1)"
   ]
  },
  {
   "cell_type": "code",
   "execution_count": 20,
   "id": "YRi3usn8gaZS",
   "metadata": {
    "id": "YRi3usn8gaZS"
   },
   "outputs": [],
   "source": [
    "def LSTM_ANN():\n",
    "    model = Sequential() # Sıralı modelin tanımlanması\n",
    "    model.add(LSTM(units=50, return_sequences=True, input_shape=(scaled_X_train.shape[1], 1))) # Giriş katmanı için LSTM modeli \n",
    "    model.add(LSTM(50,return_sequences=False)) # Gizli katman olarak ikincil LSTM katmanı\n",
    "    model.add(Dense(25)) # Gizli katman olarak yoğunluk katmanı\n",
    "    model.add(Dense(1))\n",
    "    model.compile(optimizer = 'adam', loss = 'mean_squared_error') # Modelin tamamlanması\n",
    "    return model"
   ]
  },
  {
   "cell_type": "code",
   "execution_count": 21,
   "id": "3e16bdbf",
   "metadata": {
    "id": "3e16bdbf"
   },
   "outputs": [],
   "source": [
    "scalers = [MinMaxScaler(), MaxAbsScaler(), StandardScaler(), RobustScaler(), Normalizer(), QuantileTransformer()]"
   ]
  },
  {
   "cell_type": "code",
   "execution_count": 22,
   "id": "fay8I3SkgpoS",
   "metadata": {
    "id": "fay8I3SkgpoS"
   },
   "outputs": [
    {
     "name": "stdout",
     "output_type": "stream",
     "text": [
      "MinMaxScaler is Done!\n",
      "MaxAbsScaler is Done!\n",
      "StandardScaler is Done!\n",
      "RobustScaler is Done!\n",
      "Normalizer is Done!\n",
      "QuantileTransformer is Done!\n"
     ]
    }
   ],
   "source": [
    "from sklearn.metrics import mean_squared_error as mse\n",
    "import time\n",
    "rmses = []\n",
    "runtimes = []\n",
    "for scaler in scalers:\n",
    "    start = time.time()\n",
    "    scaled_X_train, scaled_X_test = scaling(scaler) # Verilerin ölçeklendirilmesi\n",
    "    model = LSTM_ANN() # Modelin tanımlanması\n",
    "    model.fit(scaled_X_train, y_train_clipped, epochs = 100, batch_size = 32, verbose = 0) # Modelin eğitilmesi\n",
    "    y_pred = model.predict(scaled_X_test) # Tahminlerin yapılması\n",
    "    rmse = np.sqrt(mse(y_test, y_pred)) # RMSE'nin hesaplanması\n",
    "    rmses.append(rmse)\n",
    "    end = time.time()\n",
    "    runtimes.append(str(round((end - start)/60,2)) + ' minutes')\n",
    "    print(type(scaler).__name__, 'is Done!')"
   ]
  },
  {
   "cell_type": "code",
   "execution_count": 23,
   "id": "33e682eb",
   "metadata": {
    "id": "33e682eb"
   },
   "outputs": [],
   "source": [
    "d = {'Scaler': scalers, 'RMSE': rmses , 'Runtime': runtimes}\n",
    "results_LSTM = pd.DataFrame(data=d)"
   ]
  },
  {
   "cell_type": "code",
   "execution_count": 24,
   "id": "XvLYpztpxu1p",
   "metadata": {
    "colab": {
     "base_uri": "https://localhost:8080/",
     "height": 238
    },
    "id": "XvLYpztpxu1p",
    "outputId": "9f9e43e0-062b-4217-c5f4-1298470fa6a6"
   },
   "outputs": [
    {
     "data": {
      "text/html": [
       "<div>\n",
       "<style scoped>\n",
       "    .dataframe tbody tr th:only-of-type {\n",
       "        vertical-align: middle;\n",
       "    }\n",
       "\n",
       "    .dataframe tbody tr th {\n",
       "        vertical-align: top;\n",
       "    }\n",
       "\n",
       "    .dataframe thead th {\n",
       "        text-align: right;\n",
       "    }\n",
       "</style>\n",
       "<table border=\"1\" class=\"dataframe\">\n",
       "  <thead>\n",
       "    <tr style=\"text-align: right;\">\n",
       "      <th></th>\n",
       "      <th>Scaler</th>\n",
       "      <th>RMSE</th>\n",
       "      <th>Runtime</th>\n",
       "    </tr>\n",
       "  </thead>\n",
       "  <tbody>\n",
       "    <tr>\n",
       "      <th>0</th>\n",
       "      <td>MinMaxScaler()</td>\n",
       "      <td>18.735811</td>\n",
       "      <td>25.08 minutes</td>\n",
       "    </tr>\n",
       "    <tr>\n",
       "      <th>1</th>\n",
       "      <td>MaxAbsScaler()</td>\n",
       "      <td>42.634660</td>\n",
       "      <td>14.62 minutes</td>\n",
       "    </tr>\n",
       "    <tr>\n",
       "      <th>2</th>\n",
       "      <td>StandardScaler()</td>\n",
       "      <td>21.970679</td>\n",
       "      <td>12.46 minutes</td>\n",
       "    </tr>\n",
       "    <tr>\n",
       "      <th>3</th>\n",
       "      <td>RobustScaler()</td>\n",
       "      <td>21.370298</td>\n",
       "      <td>12.23 minutes</td>\n",
       "    </tr>\n",
       "    <tr>\n",
       "      <th>4</th>\n",
       "      <td>Normalizer()</td>\n",
       "      <td>42.632238</td>\n",
       "      <td>13.87 minutes</td>\n",
       "    </tr>\n",
       "    <tr>\n",
       "      <th>5</th>\n",
       "      <td>QuantileTransformer()</td>\n",
       "      <td>18.783318</td>\n",
       "      <td>13.86 minutes</td>\n",
       "    </tr>\n",
       "  </tbody>\n",
       "</table>\n",
       "</div>"
      ],
      "text/plain": [
       "                  Scaler       RMSE        Runtime\n",
       "0         MinMaxScaler()  18.735811  25.08 minutes\n",
       "1         MaxAbsScaler()  42.634660  14.62 minutes\n",
       "2       StandardScaler()  21.970679  12.46 minutes\n",
       "3         RobustScaler()  21.370298  12.23 minutes\n",
       "4           Normalizer()  42.632238  13.87 minutes\n",
       "5  QuantileTransformer()  18.783318  13.86 minutes"
      ]
     },
     "execution_count": 24,
     "metadata": {},
     "output_type": "execute_result"
    }
   ],
   "source": [
    "results_LSTM # LSTM modeli için tüm sonuçlar"
   ]
  },
  {
   "cell_type": "code",
   "execution_count": 25,
   "id": "031b3705",
   "metadata": {},
   "outputs": [],
   "source": [
    "from tensorflow.keras.layers import Conv1D, Flatten"
   ]
  },
  {
   "cell_type": "code",
   "execution_count": 26,
   "id": "b0c3a32d",
   "metadata": {},
   "outputs": [],
   "source": [
    "def CNN():\n",
    "    model = Sequential()\n",
    "    model.add(Conv1D(32, 2, activation=\"relu\", input_shape=(scaled_X_train.shape[1], 1))) # Giriş katmanı için CNN modeli \n",
    "    model.add(Flatten()) # Giriş değerlerinin düzleştirilmesi için gizli katman\n",
    "    model.add(Dense(64, activation=\"relu\")) # Gizli katman olarak yoğunluk katmanı\n",
    "    model.add(Dense(1))\n",
    "    model.compile(loss=\"mse\", optimizer='adam')\n",
    "    return model"
   ]
  },
  {
   "cell_type": "code",
   "execution_count": 27,
   "id": "63d06901",
   "metadata": {},
   "outputs": [
    {
     "name": "stdout",
     "output_type": "stream",
     "text": [
      "MinMaxScaler is Done!\n",
      "MaxAbsScaler is Done!\n",
      "StandardScaler is Done!\n",
      "RobustScaler is Done!\n",
      "Normalizer is Done!\n",
      "QuantileTransformer is Done!\n"
     ]
    }
   ],
   "source": [
    "from sklearn.metrics import mean_squared_error as mse\n",
    "import time\n",
    "rmses = []\n",
    "runtimes = []\n",
    "for scaler in scalers:\n",
    "    start = time.time()\n",
    "    scaled_X_train, scaled_X_test = scaling(scaler)\n",
    "    model = CNN()\n",
    "    model.fit(scaled_X_train, y_train_clipped, epochs = 100, batch_size = 32, verbose = 0)\n",
    "    y_pred = model.predict(scaled_X_test)\n",
    "    rmse = np.sqrt(mse(y_test, y_pred))\n",
    "    rmses.append(rmse)\n",
    "    end = time.time()\n",
    "    runtimes.append(str(round((end - start)/60,2)) + ' minutes')\n",
    "    print(type(scaler).__name__, 'is Done!')"
   ]
  },
  {
   "cell_type": "code",
   "execution_count": 28,
   "id": "73906c3c",
   "metadata": {},
   "outputs": [],
   "source": [
    "d = {'Scaler': scalers, 'RMSE': rmses , 'Runtime': runtimes}\n",
    "results_CNN = pd.DataFrame(data=d)"
   ]
  },
  {
   "cell_type": "code",
   "execution_count": 29,
   "id": "12287e71",
   "metadata": {},
   "outputs": [
    {
     "data": {
      "text/html": [
       "<div>\n",
       "<style scoped>\n",
       "    .dataframe tbody tr th:only-of-type {\n",
       "        vertical-align: middle;\n",
       "    }\n",
       "\n",
       "    .dataframe tbody tr th {\n",
       "        vertical-align: top;\n",
       "    }\n",
       "\n",
       "    .dataframe thead th {\n",
       "        text-align: right;\n",
       "    }\n",
       "</style>\n",
       "<table border=\"1\" class=\"dataframe\">\n",
       "  <thead>\n",
       "    <tr style=\"text-align: right;\">\n",
       "      <th></th>\n",
       "      <th>Scaler</th>\n",
       "      <th>RMSE</th>\n",
       "      <th>Runtime</th>\n",
       "    </tr>\n",
       "  </thead>\n",
       "  <tbody>\n",
       "    <tr>\n",
       "      <th>0</th>\n",
       "      <td>MinMaxScaler()</td>\n",
       "      <td>18.565525</td>\n",
       "      <td>1.16 minutes</td>\n",
       "    </tr>\n",
       "    <tr>\n",
       "      <th>1</th>\n",
       "      <td>MaxAbsScaler()</td>\n",
       "      <td>20.218862</td>\n",
       "      <td>1.27 minutes</td>\n",
       "    </tr>\n",
       "    <tr>\n",
       "      <th>2</th>\n",
       "      <td>StandardScaler()</td>\n",
       "      <td>18.623400</td>\n",
       "      <td>1.3 minutes</td>\n",
       "    </tr>\n",
       "    <tr>\n",
       "      <th>3</th>\n",
       "      <td>RobustScaler()</td>\n",
       "      <td>18.805727</td>\n",
       "      <td>1.18 minutes</td>\n",
       "    </tr>\n",
       "    <tr>\n",
       "      <th>4</th>\n",
       "      <td>Normalizer()</td>\n",
       "      <td>43.058696</td>\n",
       "      <td>1.35 minutes</td>\n",
       "    </tr>\n",
       "    <tr>\n",
       "      <th>5</th>\n",
       "      <td>QuantileTransformer()</td>\n",
       "      <td>19.095682</td>\n",
       "      <td>1.38 minutes</td>\n",
       "    </tr>\n",
       "  </tbody>\n",
       "</table>\n",
       "</div>"
      ],
      "text/plain": [
       "                  Scaler       RMSE       Runtime\n",
       "0         MinMaxScaler()  18.565525  1.16 minutes\n",
       "1         MaxAbsScaler()  20.218862  1.27 minutes\n",
       "2       StandardScaler()  18.623400   1.3 minutes\n",
       "3         RobustScaler()  18.805727  1.18 minutes\n",
       "4           Normalizer()  43.058696  1.35 minutes\n",
       "5  QuantileTransformer()  19.095682  1.38 minutes"
      ]
     },
     "execution_count": 29,
     "metadata": {},
     "output_type": "execute_result"
    }
   ],
   "source": [
    "results_CNN # CNN modeli için tüm sonuçlar"
   ]
  },
  {
   "cell_type": "code",
   "execution_count": null,
   "id": "6f29ea20",
   "metadata": {},
   "outputs": [],
   "source": []
  }
 ],
 "metadata": {
  "accelerator": "GPU",
  "colab": {
   "collapsed_sections": [],
   "name": "RUL -ANN.ipynb",
   "provenance": []
  },
  "gpuClass": "standard",
  "kernelspec": {
   "display_name": "Python 3 (ipykernel)",
   "language": "python",
   "name": "python3"
  },
  "language_info": {
   "codemirror_mode": {
    "name": "ipython",
    "version": 3
   },
   "file_extension": ".py",
   "mimetype": "text/x-python",
   "name": "python",
   "nbconvert_exporter": "python",
   "pygments_lexer": "ipython3",
   "version": "3.9.7"
  }
 },
 "nbformat": 4,
 "nbformat_minor": 5
}
